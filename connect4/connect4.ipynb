{
 "cells": [
  {
   "cell_type": "code",
   "execution_count": 1,
   "id": "fee398d5-84af-46ed-9e57-5090e4523663",
   "metadata": {},
   "outputs": [],
   "source": [
    "%matplotlib inline\n",
    "# ^^ ensures plots are displayed in the notebook\n",
    "import matplotlib.pyplot as plt\n",
    "import numpy as np\n",
    "import random\n",
    "import math\n",
    "import sys\n",
    "from itertools import repeat"
   ]
  },
  {
   "cell_type": "code",
   "execution_count": 2,
   "id": "5d38db86-bd3a-4345-b33a-72c1ad3e8ec8",
   "metadata": {},
   "outputs": [],
   "source": [
    "def display(grid):\n",
    "    cmap = plt.cm.colors.ListedColormap(['white', 'red', 'blue'])\n",
    "    plt.imshow(grid, cmap=cmap, interpolation='nearest')\n",
    "    # offset grid lines by half\n",
    "    plt.xticks(np.arange(-0.5, len(grid[0]), 1), [])\n",
    "    plt.yticks(np.arange(-0.5, len(grid), 1), [])\n",
    "    # show grid lines\n",
    "    plt.grid(True, which='both', color='black', linestyle='-', linewidth=1)\n",
    "    plt.show()\n",
    "\n",
    "# this function displays the colours wrong when only player 1 has moved. it displays 0 as white and 1 as red.\n",
    "# any other time it works as expected.\n",
    "# i'm guessing this is because of how ListedColormap works\n",
    "# i'm just gonna say this is fine because this function doesn't *really* matter, and any other solution I can find\n",
    "# seems way more complicated"
   ]
  },
  {
   "cell_type": "code",
   "execution_count": 3,
   "id": "dbb3a78b-6230-4dce-b8bf-25d021484ab3",
   "metadata": {},
   "outputs": [],
   "source": [
    "def potential_pos_lists(pos):\n",
    "    x, y = pos\n",
    "    def filter(iterable):\n",
    "        return in_range(7, 6, iterable)\n",
    "        \n",
    "    row = filter(zip(range(x-3, x+4), repeat(y)))\n",
    "    col = filter(zip(repeat(x), range(y-3, y+4)))\n",
    "    diag1 = filter(zip(range(x-3, x+4), range(y-3, y+4)))\n",
    "    diag2 = filter(zip(range(x-3, x+4), range(y+3, y-4, -1)))\n",
    "\n",
    "    return [ s for s in [row, col, diag1, diag2] if len(s) >= 4 ]"
   ]
  },
  {
   "cell_type": "code",
   "execution_count": 4,
   "id": "47b9b94d-9ca6-4341-8173-cf5cbafeb078",
   "metadata": {},
   "outputs": [],
   "source": [
    "def potential_val_lists(game, pos):\n",
    "    return list(map(\n",
    "        lambda lst: list(map(\n",
    "            lambda pos: game.state[pos[1]][pos[0]],\n",
    "            lst)),\n",
    "        potential_pos_lists(pos)))"
   ]
  },
  {
   "cell_type": "code",
   "execution_count": 5,
   "id": "8dd3b9a5-1969-4b3e-9da0-959fa791c4d9",
   "metadata": {},
   "outputs": [],
   "source": [
    "def has_win(line, player):\n",
    "    count = 0\n",
    "    for val in cell_vals:\n",
    "        if val == player:\n",
    "            count += 1\n",
    "            if count == 4:\n",
    "                return True\n",
    "        else:\n",
    "            count = 0\n",
    "    return False"
   ]
  },
  {
   "cell_type": "code",
   "execution_count": 6,
   "id": "ff819e5d-fa93-4a41-bf80-650bcdcffb63",
   "metadata": {},
   "outputs": [],
   "source": [
    "def in_range(xthresh, ythresh, tuples):\n",
    "    return [ (x, y) for (x, y) in tuples if x >= 0 and x < xthresh and y >= 0 and y < ythresh ]"
   ]
  },
  {
   "cell_type": "code",
   "execution_count": 7,
   "id": "f5342af0-f9cd-4f1d-9d4d-32c954675d16",
   "metadata": {},
   "outputs": [],
   "source": [
    "def has_run(cell_vals, player):\n",
    "    count = 0\n",
    "    for val in cell_vals:\n",
    "        if val == player:\n",
    "            count += 1\n",
    "        else:\n",
    "            count = 0\n",
    "        if count == 4:\n",
    "            return True\n",
    "    return False"
   ]
  },
  {
   "cell_type": "code",
   "execution_count": 13,
   "id": "0a9cb72e-d3c0-455a-8e8e-c82b15285d29",
   "metadata": {},
   "outputs": [],
   "source": [
    "# def invert_1_2(x):\n",
    "#     return x ^ 3\n",
    "    \n",
    "#vinvert_1_2 = np.vectorize(invert_1_2)\n",
    "\n",
    "def empty_board():\n",
    "    return np.zeros((6, 7), dtype=np.int32)\n",
    "\n",
    "class Connect4:\n",
    "    def __init__(self, state=None):\n",
    "        self.state = empty_board() if state is None else state\n",
    "        self.player = 1\n",
    "        self.winner = None # None -> game in progress. winner == None && player == None -> draw. maybe change this so -1 -> draw.\n",
    "\n",
    "    def __repr__(self):\n",
    "        return f'Connect4 game:\\n{self.state}\\n' + (\n",
    "            f'player: {self.player}' if self.player else\n",
    "            f'winner: {self.winner}' if self.winner else\n",
    "            'Draw'\n",
    "        )\n",
    "\n",
    "    @property\n",
    "    def opponent(self):\n",
    "        return self.player ^ 3\n",
    "    \n",
    "    def update_player(self):\n",
    "        self.player = self.opponent\n",
    "\n",
    "    def play(self, col):\n",
    "        #print((self, self._open_indices, col))\n",
    "        def try_play(row):\n",
    "            if row == -1:\n",
    "                return None # False\n",
    "            elif self.state[row][col] == 0:\n",
    "                self.state[row][col] = self.player\n",
    "                # check for win here\n",
    "                # check if we have a run of 4 adjacent (in state range and same value as self.player) values\n",
    "                self._update_winner(col, row)\n",
    "                if (self.player):\n",
    "                    self.update_player()\n",
    "                return self # True\n",
    "            else:\n",
    "                return try_play(row - 1)\n",
    "\n",
    "        return try_play(self.last_row())\n",
    "\n",
    "    # def invert(self):\n",
    "    #     self.state = vinvert_1_2(self.state)\n",
    "\n",
    "    def last_row(self):\n",
    "        return self.state.shape[0] - 1\n",
    "\n",
    "    def _update_winner(self, x, y):\n",
    "        if True in map(\n",
    "            lambda line: has_run(line, self.player),\n",
    "            potential_val_lists(self, (x, y))):\n",
    "            self.winner = self.player\n",
    "            self.player = None\n",
    "        if self._open_indices == []:\n",
    "            self.player = None # Draw\n",
    "    \n",
    "    def random_finish(self):\n",
    "        while self.player:\n",
    "            move = random.randint(0, len(self._open_indices)-1)\n",
    "            self.play(self._open_indices[move])\n",
    "\n",
    "    @property\n",
    "    def _open_indices(self):\n",
    "        return [j for i, j in zip(self.state[0], range(len(self.state[0]))) if i == 0]\n",
    "\n",
    "    def copy(self):\n",
    "        tmp = Connect4(state=self.state.copy())\n",
    "        tmp.player = self.player\n",
    "        return tmp        "
   ]
  },
  {
   "cell_type": "code",
   "execution_count": 9,
   "id": "73d6f118-49aa-4448-8373-d45c506668c9",
   "metadata": {},
   "outputs": [],
   "source": [
    "br = '\\n'\n",
    "comma = ','\n",
    "root2 = math.sqrt(2)\n",
    "\n",
    "class MCTSnode():\n",
    "    def __init__(self, game, player=None, move=None):\n",
    "        self.total = 0\n",
    "        self.visits = 0\n",
    "        self.C = root2\n",
    "        self.game = game\n",
    "        self.player = player if player else game.opponent\n",
    "        self.move = move\n",
    "        self.children = None\n",
    "\n",
    "    def __repr__(self):\n",
    "        return f'\\n{str(self.game.state).replace(br, comma)}, {self.player=}, {self.move=}, {self.total=}, {self.visits=}, {self.normalized_val=}, {self.children=}'\n",
    "\n",
    "    @property\n",
    "    def normalized_val(self):\n",
    "        return self.total / self.visits\n",
    "\n",
    "    @property\n",
    "    def opponent(self):\n",
    "        return self.player ^ 3 # is it a problem that we have an identical function\n",
    "        # here and in the game class?\n",
    "    \n",
    "    def _print_direct_children(self):\n",
    "        for child in self.children:\n",
    "            print((child.game.state, child.total, child.visits, child.normalized_val))\n",
    "\n",
    "    def UCB1(self, parent_visits):\n",
    "        if self.visits == 0:\n",
    "            return sys.float_info.max\n",
    "        else:\n",
    "            return (self.total / self.visits) + self.C * math.sqrt(math.log(parent_visits) / self.visits)\n",
    "\n",
    "    # Score function for given game\n",
    "    def score(self, game):\n",
    "        assert game.player == None, \"Cannot score incomplete game.\"\n",
    "        if game.winner == self.player:\n",
    "            return 1\n",
    "        elif game.winner == None: # draw\n",
    "            return 0\n",
    "        else:\n",
    "            return -1\n",
    "\n",
    "    def simulate(self):\n",
    "        simulation = self.game.copy()\n",
    "        if simulation.winner == None:\n",
    "            simulation.random_finish()\n",
    "        return self.score(simulation)\n",
    "        # maybe \"random finish\" should be in an MCTS subclass or in a wrapper\n",
    "        # class on the game class ?\n",
    "        # if we assume it should be in a wrapper class on game class,\n",
    "        # nothing actually has to change from the perspective of MCTSnode...\n",
    "\n",
    "    def rollout(self):\n",
    "        score = self.simulate()\n",
    "        self.total += score\n",
    "        self.visits += 1\n",
    "        return score\n",
    "        # \"rollout\" of a terminal node just returns the winner.\n",
    "\n",
    "    def add_children(self):\n",
    "        assert self.game._open_indices\n",
    "        assert self.game.winner == None\n",
    "        \n",
    "        self.children = [\n",
    "            MCTSnode(self.game.copy().play(move), player=self.opponent, move=move) for move in self.game._open_indices\n",
    "        ]\n",
    "\n",
    "    def iterate_best_child(self):\n",
    "        UCBs = [ (child.UCB1(self.visits), i) for (i, child) in list(enumerate(self.children)) ]\n",
    "        (max_ucb, i) = max(UCBs)\n",
    "        score = -self.children[i].iteration() # negative score because we're scoring opponent's move\n",
    "        self.total += score\n",
    "        self.visits += 1\n",
    "        return score\n",
    "\n",
    "    def iteration(self):\n",
    "        if self.game.player is None:\n",
    "            score = self.score(self.game)\n",
    "            self.total += score\n",
    "            self.visits += 1\n",
    "            return score\n",
    "            \n",
    "        if self.visits == 0 or self.children == []: # unvisited OR guaranteed losing node -- no children\n",
    "            return self.rollout()\n",
    "        if self.children is None:\n",
    "            self.add_children()\n",
    "            return self.iteration() # can't call iterate_best_child() directly since we don't know if add_children added anything\n",
    "        else: # have children\n",
    "            return self.iterate_best_child()\n",
    "\n",
    "    def iterate(self, n=1):\n",
    "        for i in range(n):\n",
    "            self.iteration()\n",
    "        return self\n",
    "\n",
    "    def best_move(self):\n",
    "        if self.children == None:\n",
    "            return None\n",
    "\n",
    "        best_child = self.children[0]\n",
    "        best_val = best_child.normalized_val\n",
    "        for child in self.children[1:]:\n",
    "            child_val = child.normalized_val\n",
    "            if child_val > best_val:\n",
    "                best_child = child\n",
    "                best_val = child_val\n",
    "    \n",
    "        # for i in range(3):\n",
    "        #     for j in range(3):\n",
    "        #         if self.game.state[i][j] == 0 and best_child.game.state[i][j] == self.player:\n",
    "        #             return (j, i) # if we store move this could be self.move\n",
    "\n",
    "        if best_child.move is not None:\n",
    "            return best_child.move\n",
    "        \n",
    "        print(\"ERROR\")\n",
    "        print(self.game)\n",
    "        print(self.game._open_indices)\n",
    "        assert False, \"Didn't find any move in best_move\"\n",
    "\n",
    "\n"
   ]
  },
  {
   "cell_type": "code",
   "execution_count": 10,
   "id": "32dd961e-1b7c-4f76-950f-b23e06f38316",
   "metadata": {},
   "outputs": [],
   "source": [
    "def has_run(cell_vals, player):\n",
    "    count = 0\n",
    "    for val in cell_vals:\n",
    "        if val == player:\n",
    "            count += 1\n",
    "        else:\n",
    "            count = 0\n",
    "        if count == 4:\n",
    "            return True\n",
    "    return False"
   ]
  },
  {
   "cell_type": "code",
   "execution_count": 11,
   "id": "9248d2b4-0005-4148-86e2-2ff424945bfc",
   "metadata": {},
   "outputs": [],
   "source": [
    "def AIgame(player=1, iterations=1000):\n",
    "    assert player == 1 or player == 2, \"Player can only be 1 or 2\"\n",
    "\n",
    "    g = Connect4()\n",
    "    moves = []\n",
    "    \n",
    "    while g.player:\n",
    "        #print(g)\n",
    "        display(g.state)\n",
    "        print(f'{moves=}', flush=True)\n",
    "        if g.player == player:\n",
    "            x = None\n",
    "            while x == None:\n",
    "                _x = input(\"Input column:\")\n",
    "                try:\n",
    "                    x = int(_x)\n",
    "                    res = g.play(x)\n",
    "                    if res == None: # invalid move -- full row\n",
    "                        x = None\n",
    "                        print(f\"Invalid. Row {x} is full. Please pick a row that is not full.\")\n",
    "                    else:\n",
    "                        moves += [x]\n",
    "                except ValueError:\n",
    "                    \"Invalid input\"\n",
    "            \n",
    "        else:\n",
    "            MCTS = MCTSnode(g.copy())\n",
    "            MCTS.iterate(iterations)\n",
    "\n",
    "            MCTS._print_direct_children()\n",
    "            col = MCTS.best_move()\n",
    "            g.play(col)\n",
    "            moves += [col]\n",
    "\n",
    "    #print(g)\n",
    "    display(g.state)\n",
    "    print(f'{moves=}')\n",
    "\n"
   ]
  },
  {
   "cell_type": "code",
   "execution_count": null,
   "id": "c694bfc7-8c84-45b0-b583-cfd2ea3c85c7",
   "metadata": {},
   "outputs": [],
   "source": []
  },
  {
   "cell_type": "code",
   "execution_count": 12,
   "id": "f72b7712-2fa4-4a12-b90d-9818a91310af",
   "metadata": {},
   "outputs": [
    {
     "data": {
      "image/png": "[encoded data removed]",
      "text/plain": [
       "<Figure size 640x480 with 1 Axes>"
      ]
     },
     "metadata": {},
     "output_type": "display_data"
    },
    {
     "name": "stdout",
     "output_type": "stream",
     "text": [
      "moves=[]\n"
     ]
    },
    {
     "name": "stdin",
     "output_type": "stream",
     "text": [
      "Input column: 3\n"
     ]
    },
    {
     "data": {
      "image/png": "[encoded data removed]",
      "text/plain": [
       "<Figure size 640x480 with 1 Axes>"
      ]
     },
     "metadata": {},
     "output_type": "display_data"
    },
    {
     "name": "stdout",
     "output_type": "stream",
     "text": [
      "moves=[3]\n",
      "(array([[0, 0, 0, 0, 0, 0, 0],\n",
      "       [0, 0, 0, 0, 0, 0, 0],\n",
      "       [0, 0, 0, 0, 0, 0, 0],\n",
      "       [0, 0, 0, 0, 0, 0, 0],\n",
      "       [0, 0, 0, 0, 0, 0, 0],\n",
      "       [2, 0, 0, 1, 0, 0, 0]], dtype=int32), -21, 33, -0.6363636363636364)\n",
      "(array([[0, 0, 0, 0, 0, 0, 0],\n",
      "       [0, 0, 0, 0, 0, 0, 0],\n",
      "       [0, 0, 0, 0, 0, 0, 0],\n",
      "       [0, 0, 0, 0, 0, 0, 0],\n",
      "       [0, 0, 0, 0, 0, 0, 0],\n",
      "       [0, 2, 0, 1, 0, 0, 0]], dtype=int32), -48, 180, -0.26666666666666666)\n",
      "(array([[0, 0, 0, 0, 0, 0, 0],\n",
      "       [0, 0, 0, 0, 0, 0, 0],\n",
      "       [0, 0, 0, 0, 0, 0, 0],\n",
      "       [0, 0, 0, 0, 0, 0, 0],\n",
      "       [0, 0, 0, 0, 0, 0, 0],\n",
      "       [0, 0, 2, 1, 0, 0, 0]], dtype=int32), -34, 88, -0.38636363636363635)\n",
      "(array([[0, 0, 0, 0, 0, 0, 0],\n",
      "       [0, 0, 0, 0, 0, 0, 0],\n",
      "       [0, 0, 0, 0, 0, 0, 0],\n",
      "       [0, 0, 0, 0, 0, 0, 0],\n",
      "       [0, 0, 0, 2, 0, 0, 0],\n",
      "       [0, 0, 0, 1, 0, 0, 0]], dtype=int32), -57, 300, -0.19)\n",
      "(array([[0, 0, 0, 0, 0, 0, 0],\n",
      "       [0, 0, 0, 0, 0, 0, 0],\n",
      "       [0, 0, 0, 0, 0, 0, 0],\n",
      "       [0, 0, 0, 0, 0, 0, 0],\n",
      "       [0, 0, 0, 0, 0, 0, 0],\n",
      "       [0, 0, 0, 1, 2, 0, 0]], dtype=int32), -60, 294, -0.20408163265306123)\n",
      "(array([[0, 0, 0, 0, 0, 0, 0],\n",
      "       [0, 0, 0, 0, 0, 0, 0],\n",
      "       [0, 0, 0, 0, 0, 0, 0],\n",
      "       [0, 0, 0, 0, 0, 0, 0],\n",
      "       [0, 0, 0, 0, 0, 0, 0],\n",
      "       [0, 0, 0, 1, 0, 2, 0]], dtype=int32), -31, 74, -0.4189189189189189)\n",
      "(array([[0, 0, 0, 0, 0, 0, 0],\n",
      "       [0, 0, 0, 0, 0, 0, 0],\n",
      "       [0, 0, 0, 0, 0, 0, 0],\n",
      "       [0, 0, 0, 0, 0, 0, 0],\n",
      "       [0, 0, 0, 0, 0, 0, 0],\n",
      "       [0, 0, 0, 1, 0, 0, 2]], dtype=int32), -20, 30, -0.6666666666666666)\n"
     ]
    },
    {
     "data": {
      "image/png": "[encoded data removed]",
      "text/plain": [
       "<Figure size 640x480 with 1 Axes>"
      ]
     },
     "metadata": {},
     "output_type": "display_data"
    },
    {
     "name": "stdout",
     "output_type": "stream",
     "text": [
      "moves=[3, 3]\n"
     ]
    },
    {
     "name": "stdin",
     "output_type": "stream",
     "text": [
      "Input column: 3\n"
     ]
    },
    {
     "data": {
      "image/png": "[encoded data removed]",
      "text/plain": [
       "<Figure size 640x480 with 1 Axes>"
      ]
     },
     "metadata": {},
     "output_type": "display_data"
    },
    {
     "name": "stdout",
     "output_type": "stream",
     "text": [
      "moves=[3, 3, 3]\n",
      "(array([[0, 0, 0, 0, 0, 0, 0],\n",
      "       [0, 0, 0, 0, 0, 0, 0],\n",
      "       [0, 0, 0, 0, 0, 0, 0],\n",
      "       [0, 0, 0, 1, 0, 0, 0],\n",
      "       [0, 0, 0, 2, 0, 0, 0],\n",
      "       [2, 0, 0, 1, 0, 0, 0]], dtype=int32), -26, 80, -0.325)\n",
      "(array([[0, 0, 0, 0, 0, 0, 0],\n",
      "       [0, 0, 0, 0, 0, 0, 0],\n",
      "       [0, 0, 0, 0, 0, 0, 0],\n",
      "       [0, 0, 0, 1, 0, 0, 0],\n",
      "       [0, 0, 0, 2, 0, 0, 0],\n",
      "       [0, 2, 0, 1, 0, 0, 0]], dtype=int32), -33, 342, -0.09649122807017543)\n",
      "(array([[0, 0, 0, 0, 0, 0, 0],\n",
      "       [0, 0, 0, 0, 0, 0, 0],\n",
      "       [0, 0, 0, 0, 0, 0, 0],\n",
      "       [0, 0, 0, 1, 0, 0, 0],\n",
      "       [0, 0, 0, 2, 0, 0, 0],\n",
      "       [0, 0, 2, 1, 0, 0, 0]], dtype=int32), -21, 47, -0.44680851063829785)\n",
      "(array([[0, 0, 0, 0, 0, 0, 0],\n",
      "       [0, 0, 0, 0, 0, 0, 0],\n",
      "       [0, 0, 0, 2, 0, 0, 0],\n",
      "       [0, 0, 0, 1, 0, 0, 0],\n",
      "       [0, 0, 0, 2, 0, 0, 0],\n",
      "       [0, 0, 0, 1, 0, 0, 0]], dtype=int32), -35, 319, -0.109717868338558)\n",
      "(array([[0, 0, 0, 0, 0, 0, 0],\n",
      "       [0, 0, 0, 0, 0, 0, 0],\n",
      "       [0, 0, 0, 0, 0, 0, 0],\n",
      "       [0, 0, 0, 1, 0, 0, 0],\n",
      "       [0, 0, 0, 2, 0, 0, 0],\n",
      "       [0, 0, 0, 1, 2, 0, 0]], dtype=int32), -21, 45, -0.4666666666666667)\n",
      "(array([[0, 0, 0, 0, 0, 0, 0],\n",
      "       [0, 0, 0, 0, 0, 0, 0],\n",
      "       [0, 0, 0, 0, 0, 0, 0],\n",
      "       [0, 0, 0, 1, 0, 0, 0],\n",
      "       [0, 0, 0, 2, 0, 0, 0],\n",
      "       [0, 0, 0, 1, 0, 2, 0]], dtype=int32), -20, 40, -0.5)\n",
      "(array([[0, 0, 0, 0, 0, 0, 0],\n",
      "       [0, 0, 0, 0, 0, 0, 0],\n",
      "       [0, 0, 0, 0, 0, 0, 0],\n",
      "       [0, 0, 0, 1, 0, 0, 0],\n",
      "       [0, 0, 0, 2, 0, 0, 0],\n",
      "       [0, 0, 0, 1, 0, 0, 2]], dtype=int32), -30, 126, -0.23809523809523808)\n"
     ]
    },
    {
     "data": {
      "image/png": "[encoded data removed]",
      "text/plain": [
       "<Figure size 640x480 with 1 Axes>"
      ]
     },
     "metadata": {},
     "output_type": "display_data"
    },
    {
     "name": "stdout",
     "output_type": "stream",
     "text": [
      "moves=[3, 3, 3, 1]\n"
     ]
    },
    {
     "name": "stdin",
     "output_type": "stream",
     "text": [
      "Input column: 5\n"
     ]
    },
    {
     "data": {
      "image/png": "[encoded data removed]",
      "text/plain": [
       "<Figure size 640x480 with 1 Axes>"
      ]
     },
     "metadata": {},
     "output_type": "display_data"
    },
    {
     "name": "stdout",
     "output_type": "stream",
     "text": [
      "moves=[3, 3, 3, 1, 5]\n",
      "(array([[0, 0, 0, 0, 0, 0, 0],\n",
      "       [0, 0, 0, 0, 0, 0, 0],\n",
      "       [0, 0, 0, 0, 0, 0, 0],\n",
      "       [0, 0, 0, 1, 0, 0, 0],\n",
      "       [0, 0, 0, 2, 0, 0, 0],\n",
      "       [2, 2, 0, 1, 0, 1, 0]], dtype=int32), -14, 22, -0.6363636363636364)\n",
      "(array([[0, 0, 0, 0, 0, 0, 0],\n",
      "       [0, 0, 0, 0, 0, 0, 0],\n",
      "       [0, 0, 0, 0, 0, 0, 0],\n",
      "       [0, 0, 0, 1, 0, 0, 0],\n",
      "       [0, 2, 0, 2, 0, 0, 0],\n",
      "       [0, 2, 0, 1, 0, 1, 0]], dtype=int32), -18, 46, -0.391304347826087)\n",
      "(array([[0, 0, 0, 0, 0, 0, 0],\n",
      "       [0, 0, 0, 0, 0, 0, 0],\n",
      "       [0, 0, 0, 0, 0, 0, 0],\n",
      "       [0, 0, 0, 1, 0, 0, 0],\n",
      "       [0, 0, 0, 2, 0, 0, 0],\n",
      "       [0, 2, 2, 1, 0, 1, 0]], dtype=int32), -15, 27, -0.5555555555555556)\n",
      "(array([[0, 0, 0, 0, 0, 0, 0],\n",
      "       [0, 0, 0, 0, 0, 0, 0],\n",
      "       [0, 0, 0, 2, 0, 0, 0],\n",
      "       [0, 0, 0, 1, 0, 0, 0],\n",
      "       [0, 0, 0, 2, 0, 0, 0],\n",
      "       [0, 2, 0, 1, 0, 1, 0]], dtype=int32), -19, 56, -0.3392857142857143)\n",
      "(array([[0, 0, 0, 0, 0, 0, 0],\n",
      "       [0, 0, 0, 0, 0, 0, 0],\n",
      "       [0, 0, 0, 0, 0, 0, 0],\n",
      "       [0, 0, 0, 1, 0, 0, 0],\n",
      "       [0, 0, 0, 2, 0, 0, 0],\n",
      "       [0, 2, 0, 1, 2, 1, 0]], dtype=int32), 22, 743, 0.029609690444145357)\n",
      "(array([[0, 0, 0, 0, 0, 0, 0],\n",
      "       [0, 0, 0, 0, 0, 0, 0],\n",
      "       [0, 0, 0, 0, 0, 0, 0],\n",
      "       [0, 0, 0, 1, 0, 0, 0],\n",
      "       [0, 0, 0, 2, 0, 2, 0],\n",
      "       [0, 2, 0, 1, 0, 1, 0]], dtype=int32), -18, 46, -0.391304347826087)\n",
      "(array([[0, 0, 0, 0, 0, 0, 0],\n",
      "       [0, 0, 0, 0, 0, 0, 0],\n",
      "       [0, 0, 0, 0, 0, 0, 0],\n",
      "       [0, 0, 0, 1, 0, 0, 0],\n",
      "       [0, 0, 0, 2, 0, 0, 0],\n",
      "       [0, 2, 0, 1, 0, 1, 2]], dtype=int32), -19, 59, -0.3220338983050847)\n"
     ]
    },
    {
     "data": {
      "image/png": "[encoded data removed]",
      "text/plain": [
       "<Figure size 640x480 with 1 Axes>"
      ]
     },
     "metadata": {},
     "output_type": "display_data"
    },
    {
     "name": "stdout",
     "output_type": "stream",
     "text": [
      "moves=[3, 3, 3, 1, 5, 4]\n"
     ]
    },
    {
     "name": "stdin",
     "output_type": "stream",
     "text": [
      "Input column: 4\n"
     ]
    },
    {
     "data": {
      "image/png": "[encoded data removed]",
      "text/plain": [
       "<Figure size 640x480 with 1 Axes>"
      ]
     },
     "metadata": {},
     "output_type": "display_data"
    },
    {
     "name": "stdout",
     "output_type": "stream",
     "text": [
      "moves=[3, 3, 3, 1, 5, 4, 4]\n",
      "(array([[0, 0, 0, 0, 0, 0, 0],\n",
      "       [0, 0, 0, 0, 0, 0, 0],\n",
      "       [0, 0, 0, 0, 0, 0, 0],\n",
      "       [0, 0, 0, 1, 0, 0, 0],\n",
      "       [0, 0, 0, 2, 1, 0, 0],\n",
      "       [2, 2, 0, 1, 2, 1, 0]], dtype=int32), -16, 32, -0.5)\n",
      "(array([[0, 0, 0, 0, 0, 0, 0],\n",
      "       [0, 0, 0, 0, 0, 0, 0],\n",
      "       [0, 0, 0, 0, 0, 0, 0],\n",
      "       [0, 0, 0, 1, 0, 0, 0],\n",
      "       [0, 2, 0, 2, 1, 0, 0],\n",
      "       [0, 2, 0, 1, 2, 1, 0]], dtype=int32), -2, 313, -0.006389776357827476)\n",
      "(array([[0, 0, 0, 0, 0, 0, 0],\n",
      "       [0, 0, 0, 0, 0, 0, 0],\n",
      "       [0, 0, 0, 0, 0, 0, 0],\n",
      "       [0, 0, 0, 1, 0, 0, 0],\n",
      "       [0, 0, 0, 2, 1, 0, 0],\n",
      "       [0, 2, 2, 1, 2, 1, 0]], dtype=int32), -18, 50, -0.36)\n",
      "(array([[0, 0, 0, 0, 0, 0, 0],\n",
      "       [0, 0, 0, 0, 0, 0, 0],\n",
      "       [0, 0, 0, 2, 0, 0, 0],\n",
      "       [0, 0, 0, 1, 0, 0, 0],\n",
      "       [0, 0, 0, 2, 1, 0, 0],\n",
      "       [0, 2, 0, 1, 2, 1, 0]], dtype=int32), -20, 181, -0.11049723756906077)\n",
      "(array([[0, 0, 0, 0, 0, 0, 0],\n",
      "       [0, 0, 0, 0, 0, 0, 0],\n",
      "       [0, 0, 0, 0, 0, 0, 0],\n",
      "       [0, 0, 0, 1, 2, 0, 0],\n",
      "       [0, 0, 0, 2, 1, 0, 0],\n",
      "       [0, 2, 0, 1, 2, 1, 0]], dtype=int32), -13, 316, -0.04113924050632911)\n",
      "(array([[0, 0, 0, 0, 0, 0, 0],\n",
      "       [0, 0, 0, 0, 0, 0, 0],\n",
      "       [0, 0, 0, 0, 0, 0, 0],\n",
      "       [0, 0, 0, 1, 0, 0, 0],\n",
      "       [0, 0, 0, 2, 1, 2, 0],\n",
      "       [0, 2, 0, 1, 2, 1, 0]], dtype=int32), -19, 59, -0.3220338983050847)\n",
      "(array([[0, 0, 0, 0, 0, 0, 0],\n",
      "       [0, 0, 0, 0, 0, 0, 0],\n",
      "       [0, 0, 0, 0, 0, 0, 0],\n",
      "       [0, 0, 0, 1, 0, 0, 0],\n",
      "       [0, 0, 0, 2, 1, 0, 0],\n",
      "       [0, 2, 0, 1, 2, 1, 2]], dtype=int32), -18, 48, -0.375)\n"
     ]
    },
    {
     "data": {
      "image/png": "[encoded data removed]",
      "text/plain": [
       "<Figure size 640x480 with 1 Axes>"
      ]
     },
     "metadata": {},
     "output_type": "display_data"
    },
    {
     "name": "stdout",
     "output_type": "stream",
     "text": [
      "moves=[3, 3, 3, 1, 5, 4, 4, 1]\n"
     ]
    },
    {
     "name": "stdin",
     "output_type": "stream",
     "text": [
      "Input column: 4\n"
     ]
    },
    {
     "data": {
      "image/png": "[encoded data removed]",
      "text/plain": [
       "<Figure size 640x480 with 1 Axes>"
      ]
     },
     "metadata": {},
     "output_type": "display_data"
    },
    {
     "name": "stdout",
     "output_type": "stream",
     "text": [
      "moves=[3, 3, 3, 1, 5, 4, 4, 1, 4]\n",
      "(array([[0, 0, 0, 0, 0, 0, 0],\n",
      "       [0, 0, 0, 0, 0, 0, 0],\n",
      "       [0, 0, 0, 0, 0, 0, 0],\n",
      "       [0, 0, 0, 1, 1, 0, 0],\n",
      "       [0, 2, 0, 2, 1, 0, 0],\n",
      "       [2, 2, 0, 1, 2, 1, 0]], dtype=int32), -18, 63, -0.2857142857142857)\n",
      "(array([[0, 0, 0, 0, 0, 0, 0],\n",
      "       [0, 0, 0, 0, 0, 0, 0],\n",
      "       [0, 0, 0, 0, 0, 0, 0],\n",
      "       [0, 2, 0, 1, 1, 0, 0],\n",
      "       [0, 2, 0, 2, 1, 0, 0],\n",
      "       [0, 2, 0, 1, 2, 1, 0]], dtype=int32), -9, 271, -0.033210332103321034)\n",
      "(array([[0, 0, 0, 0, 0, 0, 0],\n",
      "       [0, 0, 0, 0, 0, 0, 0],\n",
      "       [0, 0, 0, 0, 0, 0, 0],\n",
      "       [0, 0, 0, 1, 1, 0, 0],\n",
      "       [0, 2, 0, 2, 1, 0, 0],\n",
      "       [0, 2, 2, 1, 2, 1, 0]], dtype=int32), -18, 62, -0.2903225806451613)\n",
      "(array([[0, 0, 0, 0, 0, 0, 0],\n",
      "       [0, 0, 0, 0, 0, 0, 0],\n",
      "       [0, 0, 0, 2, 0, 0, 0],\n",
      "       [0, 0, 0, 1, 1, 0, 0],\n",
      "       [0, 2, 0, 2, 1, 0, 0],\n",
      "       [0, 2, 0, 1, 2, 1, 0]], dtype=int32), -11, 249, -0.04417670682730924)\n",
      "(array([[0, 0, 0, 0, 0, 0, 0],\n",
      "       [0, 0, 0, 0, 0, 0, 0],\n",
      "       [0, 0, 0, 0, 2, 0, 0],\n",
      "       [0, 0, 0, 1, 1, 0, 0],\n",
      "       [0, 2, 0, 2, 1, 0, 0],\n",
      "       [0, 2, 0, 1, 2, 1, 0]], dtype=int32), -8, 192, -0.041666666666666664)\n",
      "(array([[0, 0, 0, 0, 0, 0, 0],\n",
      "       [0, 0, 0, 0, 0, 0, 0],\n",
      "       [0, 0, 0, 0, 0, 0, 0],\n",
      "       [0, 0, 0, 1, 1, 0, 0],\n",
      "       [0, 2, 0, 2, 1, 2, 0],\n",
      "       [0, 2, 0, 1, 2, 1, 0]], dtype=int32), -15, 29, -0.5172413793103449)\n",
      "(array([[0, 0, 0, 0, 0, 0, 0],\n",
      "       [0, 0, 0, 0, 0, 0, 0],\n",
      "       [0, 0, 0, 0, 0, 0, 0],\n",
      "       [0, 0, 0, 1, 1, 0, 0],\n",
      "       [0, 2, 0, 2, 1, 0, 0],\n",
      "       [0, 2, 0, 1, 2, 1, 2]], dtype=int32), -17, 133, -0.12781954887218044)\n"
     ]
    },
    {
     "data": {
      "image/png": "[encoded data removed]",
      "text/plain": [
       "<Figure size 640x480 with 1 Axes>"
      ]
     },
     "metadata": {},
     "output_type": "display_data"
    },
    {
     "name": "stdout",
     "output_type": "stream",
     "text": [
      "moves=[3, 3, 3, 1, 5, 4, 4, 1, 4, 1]\n"
     ]
    },
    {
     "name": "stdin",
     "output_type": "stream",
     "text": [
      "Input column: 1\n"
     ]
    },
    {
     "data": {
      "image/png": "[encoded data removed]",
      "text/plain": [
       "<Figure size 640x480 with 1 Axes>"
      ]
     },
     "metadata": {},
     "output_type": "display_data"
    },
    {
     "name": "stdout",
     "output_type": "stream",
     "text": [
      "moves=[3, 3, 3, 1, 5, 4, 4, 1, 4, 1, 1]\n",
      "(array([[0, 0, 0, 0, 0, 0, 0],\n",
      "       [0, 0, 0, 0, 0, 0, 0],\n",
      "       [0, 1, 0, 0, 0, 0, 0],\n",
      "       [0, 2, 0, 1, 1, 0, 0],\n",
      "       [0, 2, 0, 2, 1, 0, 0],\n",
      "       [2, 2, 0, 1, 2, 1, 0]], dtype=int32), -33, 95, -0.3473684210526316)\n",
      "(array([[0, 0, 0, 0, 0, 0, 0],\n",
      "       [0, 2, 0, 0, 0, 0, 0],\n",
      "       [0, 1, 0, 0, 0, 0, 0],\n",
      "       [0, 2, 0, 1, 1, 0, 0],\n",
      "       [0, 2, 0, 2, 1, 0, 0],\n",
      "       [0, 2, 0, 1, 2, 1, 0]], dtype=int32), -26, 56, -0.4642857142857143)\n",
      "(array([[0, 0, 0, 0, 0, 0, 0],\n",
      "       [0, 0, 0, 0, 0, 0, 0],\n",
      "       [0, 1, 0, 0, 0, 0, 0],\n",
      "       [0, 2, 0, 1, 1, 0, 0],\n",
      "       [0, 2, 0, 2, 1, 0, 0],\n",
      "       [0, 2, 2, 1, 2, 1, 0]], dtype=int32), -23, 44, -0.5227272727272727)\n",
      "(array([[0, 0, 0, 0, 0, 0, 0],\n",
      "       [0, 0, 0, 0, 0, 0, 0],\n",
      "       [0, 1, 0, 2, 0, 0, 0],\n",
      "       [0, 2, 0, 1, 1, 0, 0],\n",
      "       [0, 2, 0, 2, 1, 0, 0],\n",
      "       [0, 2, 0, 1, 2, 1, 0]], dtype=int32), -56, 519, -0.10789980732177264)\n",
      "(array([[0, 0, 0, 0, 0, 0, 0],\n",
      "       [0, 0, 0, 0, 0, 0, 0],\n",
      "       [0, 1, 0, 0, 2, 0, 0],\n",
      "       [0, 2, 0, 1, 1, 0, 0],\n",
      "       [0, 2, 0, 2, 1, 0, 0],\n",
      "       [0, 2, 0, 1, 2, 1, 0]], dtype=int32), -38, 133, -0.2857142857142857)\n",
      "(array([[0, 0, 0, 0, 0, 0, 0],\n",
      "       [0, 0, 0, 0, 0, 0, 0],\n",
      "       [0, 1, 0, 0, 0, 0, 0],\n",
      "       [0, 2, 0, 1, 1, 0, 0],\n",
      "       [0, 2, 0, 2, 1, 2, 0],\n",
      "       [0, 2, 0, 1, 2, 1, 0]], dtype=int32), -24, 46, -0.5217391304347826)\n",
      "(array([[0, 0, 0, 0, 0, 0, 0],\n",
      "       [0, 0, 0, 0, 0, 0, 0],\n",
      "       [0, 1, 0, 0, 0, 0, 0],\n",
      "       [0, 2, 0, 1, 1, 0, 0],\n",
      "       [0, 2, 0, 2, 1, 0, 0],\n",
      "       [0, 2, 0, 1, 2, 1, 2]], dtype=int32), -35, 106, -0.330188679245283)\n"
     ]
    },
    {
     "data": {
      "image/png": "[encoded data removed]",
      "text/plain": [
       "<Figure size 640x480 with 1 Axes>"
      ]
     },
     "metadata": {},
     "output_type": "display_data"
    },
    {
     "name": "stdout",
     "output_type": "stream",
     "text": [
      "moves=[3, 3, 3, 1, 5, 4, 4, 1, 4, 1, 1, 3]\n"
     ]
    },
    {
     "name": "stdin",
     "output_type": "stream",
     "text": [
      "Input column: 4\n"
     ]
    },
    {
     "data": {
      "image/png": "[encoded data removed]",
      "text/plain": [
       "<Figure size 640x480 with 1 Axes>"
      ]
     },
     "metadata": {},
     "output_type": "display_data"
    },
    {
     "name": "stdout",
     "output_type": "stream",
     "text": [
      "moves=[3, 3, 3, 1, 5, 4, 4, 1, 4, 1, 1, 3, 4]\n",
      "(array([[0, 0, 0, 0, 0, 0, 0],\n",
      "       [0, 0, 0, 0, 0, 0, 0],\n",
      "       [0, 1, 0, 2, 1, 0, 0],\n",
      "       [0, 2, 0, 1, 1, 0, 0],\n",
      "       [0, 2, 0, 2, 1, 0, 0],\n",
      "       [2, 2, 0, 1, 2, 1, 0]], dtype=int32), -14, 26, -0.5384615384615384)\n",
      "(array([[0, 0, 0, 0, 0, 0, 0],\n",
      "       [0, 2, 0, 0, 0, 0, 0],\n",
      "       [0, 1, 0, 2, 1, 0, 0],\n",
      "       [0, 2, 0, 1, 1, 0, 0],\n",
      "       [0, 2, 0, 2, 1, 0, 0],\n",
      "       [0, 2, 0, 1, 2, 1, 0]], dtype=int32), -15, 31, -0.4838709677419355)\n",
      "(array([[0, 0, 0, 0, 0, 0, 0],\n",
      "       [0, 0, 0, 0, 0, 0, 0],\n",
      "       [0, 1, 0, 2, 1, 0, 0],\n",
      "       [0, 2, 0, 1, 1, 0, 0],\n",
      "       [0, 2, 0, 2, 1, 0, 0],\n",
      "       [0, 2, 2, 1, 2, 1, 0]], dtype=int32), -14, 26, -0.5384615384615384)\n",
      "(array([[0, 0, 0, 0, 0, 0, 0],\n",
      "       [0, 0, 0, 2, 0, 0, 0],\n",
      "       [0, 1, 0, 2, 1, 0, 0],\n",
      "       [0, 2, 0, 1, 1, 0, 0],\n",
      "       [0, 2, 0, 2, 1, 0, 0],\n",
      "       [0, 2, 0, 1, 2, 1, 0]], dtype=int32), -11, 13, -0.8461538461538461)\n",
      "(array([[0, 0, 0, 0, 0, 0, 0],\n",
      "       [0, 0, 0, 0, 2, 0, 0],\n",
      "       [0, 1, 0, 2, 1, 0, 0],\n",
      "       [0, 2, 0, 1, 1, 0, 0],\n",
      "       [0, 2, 0, 2, 1, 0, 0],\n",
      "       [0, 2, 0, 1, 2, 1, 0]], dtype=int32), 61, 871, 0.07003444316877153)\n",
      "(array([[0, 0, 0, 0, 0, 0, 0],\n",
      "       [0, 0, 0, 0, 0, 0, 0],\n",
      "       [0, 1, 0, 2, 1, 0, 0],\n",
      "       [0, 2, 0, 1, 1, 0, 0],\n",
      "       [0, 2, 0, 2, 1, 2, 0],\n",
      "       [0, 2, 0, 1, 2, 1, 0]], dtype=int32), -13, 19, -0.6842105263157895)\n",
      "(array([[0, 0, 0, 0, 0, 0, 0],\n",
      "       [0, 0, 0, 0, 0, 0, 0],\n",
      "       [0, 1, 0, 2, 1, 0, 0],\n",
      "       [0, 2, 0, 1, 1, 0, 0],\n",
      "       [0, 2, 0, 2, 1, 0, 0],\n",
      "       [0, 2, 0, 1, 2, 1, 2]], dtype=int32), -11, 13, -0.8461538461538461)\n"
     ]
    },
    {
     "data": {
      "image/png": "[encoded data removed]",
      "text/plain": [
       "<Figure size 640x480 with 1 Axes>"
      ]
     },
     "metadata": {},
     "output_type": "display_data"
    },
    {
     "name": "stdout",
     "output_type": "stream",
     "text": [
      "moves=[3, 3, 3, 1, 5, 4, 4, 1, 4, 1, 1, 3, 4, 4]\n"
     ]
    },
    {
     "name": "stdin",
     "output_type": "stream",
     "text": [
      "Input column: 3\n"
     ]
    },
    {
     "data": {
      "image/png": "[encoded data removed]",
      "text/plain": [
       "<Figure size 640x480 with 1 Axes>"
      ]
     },
     "metadata": {},
     "output_type": "display_data"
    },
    {
     "name": "stdout",
     "output_type": "stream",
     "text": [
      "moves=[3, 3, 3, 1, 5, 4, 4, 1, 4, 1, 1, 3, 4, 4, 3]\n",
      "(array([[0, 0, 0, 0, 0, 0, 0],\n",
      "       [0, 0, 0, 1, 2, 0, 0],\n",
      "       [0, 1, 0, 2, 1, 0, 0],\n",
      "       [0, 2, 0, 1, 1, 0, 0],\n",
      "       [0, 2, 0, 2, 1, 0, 0],\n",
      "       [2, 2, 0, 1, 2, 1, 0]], dtype=int32), -13, 33, -0.3939393939393939)\n",
      "(array([[0, 0, 0, 0, 0, 0, 0],\n",
      "       [0, 2, 0, 1, 2, 0, 0],\n",
      "       [0, 1, 0, 2, 1, 0, 0],\n",
      "       [0, 2, 0, 1, 1, 0, 0],\n",
      "       [0, 2, 0, 2, 1, 0, 0],\n",
      "       [0, 2, 0, 1, 2, 1, 0]], dtype=int32), 8, 259, 0.03088803088803089)\n",
      "(array([[0, 0, 0, 0, 0, 0, 0],\n",
      "       [0, 0, 0, 1, 2, 0, 0],\n",
      "       [0, 1, 0, 2, 1, 0, 0],\n",
      "       [0, 2, 0, 1, 1, 0, 0],\n",
      "       [0, 2, 0, 2, 1, 0, 0],\n",
      "       [0, 2, 2, 1, 2, 1, 0]], dtype=int32), 22, 347, 0.06340057636887608)\n",
      "(array([[0, 0, 0, 2, 0, 0, 0],\n",
      "       [0, 0, 0, 1, 2, 0, 0],\n",
      "       [0, 1, 0, 2, 1, 0, 0],\n",
      "       [0, 2, 0, 1, 1, 0, 0],\n",
      "       [0, 2, 0, 2, 1, 0, 0],\n",
      "       [0, 2, 0, 1, 2, 1, 0]], dtype=int32), 4, 226, 0.017699115044247787)\n",
      "(array([[0, 0, 0, 0, 2, 0, 0],\n",
      "       [0, 0, 0, 1, 2, 0, 0],\n",
      "       [0, 1, 0, 2, 1, 0, 0],\n",
      "       [0, 2, 0, 1, 1, 0, 0],\n",
      "       [0, 2, 0, 2, 1, 0, 0],\n",
      "       [0, 2, 0, 1, 2, 1, 0]], dtype=int32), -13, 33, -0.3939393939393939)\n",
      "(array([[0, 0, 0, 0, 0, 0, 0],\n",
      "       [0, 0, 0, 1, 2, 0, 0],\n",
      "       [0, 1, 0, 2, 1, 0, 0],\n",
      "       [0, 2, 0, 1, 1, 0, 0],\n",
      "       [0, 2, 0, 2, 1, 2, 0],\n",
      "       [0, 2, 0, 1, 2, 1, 0]], dtype=int32), -13, 53, -0.24528301886792453)\n",
      "(array([[0, 0, 0, 0, 0, 0, 0],\n",
      "       [0, 0, 0, 1, 2, 0, 0],\n",
      "       [0, 1, 0, 2, 1, 0, 0],\n",
      "       [0, 2, 0, 1, 1, 0, 0],\n",
      "       [0, 2, 0, 2, 1, 0, 0],\n",
      "       [0, 2, 0, 1, 2, 1, 2]], dtype=int32), -13, 48, -0.2708333333333333)\n"
     ]
    },
    {
     "data": {
      "image/png": "[encoded data removed]",
      "text/plain": [
       "<Figure size 640x480 with 1 Axes>"
      ]
     },
     "metadata": {},
     "output_type": "display_data"
    },
    {
     "name": "stdout",
     "output_type": "stream",
     "text": [
      "moves=[3, 3, 3, 1, 5, 4, 4, 1, 4, 1, 1, 3, 4, 4, 3, 2]\n"
     ]
    },
    {
     "name": "stdin",
     "output_type": "stream",
     "text": [
      "Input column: 1\n"
     ]
    },
    {
     "data": {
      "image/png": "[encoded data removed]",
      "text/plain": [
       "<Figure size 640x480 with 1 Axes>"
      ]
     },
     "metadata": {},
     "output_type": "display_data"
    },
    {
     "name": "stdout",
     "output_type": "stream",
     "text": [
      "moves=[3, 3, 3, 1, 5, 4, 4, 1, 4, 1, 1, 3, 4, 4, 3, 2, 1]\n",
      "(array([[0, 0, 0, 0, 0, 0, 0],\n",
      "       [0, 1, 0, 1, 2, 0, 0],\n",
      "       [0, 1, 0, 2, 1, 0, 0],\n",
      "       [0, 2, 0, 1, 1, 0, 0],\n",
      "       [0, 2, 0, 2, 1, 0, 0],\n",
      "       [2, 2, 2, 1, 2, 1, 0]], dtype=int32), -10, 43, -0.23255813953488372)\n",
      "(array([[0, 2, 0, 0, 0, 0, 0],\n",
      "       [0, 1, 0, 1, 2, 0, 0],\n",
      "       [0, 1, 0, 2, 1, 0, 0],\n",
      "       [0, 2, 0, 1, 1, 0, 0],\n",
      "       [0, 2, 0, 2, 1, 0, 0],\n",
      "       [0, 2, 2, 1, 2, 1, 0]], dtype=int32), 17, 195, 0.08717948717948718)\n",
      "(array([[0, 0, 0, 0, 0, 0, 0],\n",
      "       [0, 1, 0, 1, 2, 0, 0],\n",
      "       [0, 1, 0, 2, 1, 0, 0],\n",
      "       [0, 2, 0, 1, 1, 0, 0],\n",
      "       [0, 2, 2, 2, 1, 0, 0],\n",
      "       [0, 2, 2, 1, 2, 1, 0]], dtype=int32), -6, 79, -0.0759493670886076)\n",
      "(array([[0, 0, 0, 2, 0, 0, 0],\n",
      "       [0, 1, 0, 1, 2, 0, 0],\n",
      "       [0, 1, 0, 2, 1, 0, 0],\n",
      "       [0, 2, 0, 1, 1, 0, 0],\n",
      "       [0, 2, 0, 2, 1, 0, 0],\n",
      "       [0, 2, 2, 1, 2, 1, 0]], dtype=int32), 35, 267, 0.13108614232209737)\n",
      "(array([[0, 0, 0, 0, 2, 0, 0],\n",
      "       [0, 1, 0, 1, 2, 0, 0],\n",
      "       [0, 1, 0, 2, 1, 0, 0],\n",
      "       [0, 2, 0, 1, 1, 0, 0],\n",
      "       [0, 2, 0, 2, 1, 0, 0],\n",
      "       [0, 2, 2, 1, 2, 1, 0]], dtype=int32), 21, 211, 0.0995260663507109)\n",
      "(array([[0, 0, 0, 0, 0, 0, 0],\n",
      "       [0, 1, 0, 1, 2, 0, 0],\n",
      "       [0, 1, 0, 2, 1, 0, 0],\n",
      "       [0, 2, 0, 1, 1, 0, 0],\n",
      "       [0, 2, 0, 2, 1, 2, 0],\n",
      "       [0, 2, 2, 1, 2, 1, 0]], dtype=int32), -10, 28, -0.35714285714285715)\n",
      "(array([[0, 0, 0, 0, 0, 0, 0],\n",
      "       [0, 1, 0, 1, 2, 0, 0],\n",
      "       [0, 1, 0, 2, 1, 0, 0],\n",
      "       [0, 2, 0, 1, 1, 0, 0],\n",
      "       [0, 2, 0, 2, 1, 0, 0],\n",
      "       [0, 2, 2, 1, 2, 1, 2]], dtype=int32), 13, 176, 0.07386363636363637)\n"
     ]
    },
    {
     "data": {
      "image/png": "[encoded data removed]",
      "text/plain": [
       "<Figure size 640x480 with 1 Axes>"
      ]
     },
     "metadata": {},
     "output_type": "display_data"
    },
    {
     "name": "stdout",
     "output_type": "stream",
     "text": [
      "moves=[3, 3, 3, 1, 5, 4, 4, 1, 4, 1, 1, 3, 4, 4, 3, 2, 1, 3]\n"
     ]
    },
    {
     "name": "stdin",
     "output_type": "stream",
     "text": [
      "Input column: 0\n"
     ]
    },
    {
     "data": {
      "image/png": "[encoded data removed]",
      "text/plain": [
       "<Figure size 640x480 with 1 Axes>"
      ]
     },
     "metadata": {},
     "output_type": "display_data"
    },
    {
     "name": "stdout",
     "output_type": "stream",
     "text": [
      "moves=[3, 3, 3, 1, 5, 4, 4, 1, 4, 1, 1, 3, 4, 4, 3, 2, 1, 3, 0]\n",
      "(array([[0, 0, 0, 2, 0, 0, 0],\n",
      "       [0, 1, 0, 1, 2, 0, 0],\n",
      "       [0, 1, 0, 2, 1, 0, 0],\n",
      "       [0, 2, 0, 1, 1, 0, 0],\n",
      "       [2, 2, 0, 2, 1, 0, 0],\n",
      "       [1, 2, 2, 1, 2, 1, 0]], dtype=int32), 1, 19, 0.05263157894736842)\n",
      "(array([[0, 2, 0, 2, 0, 0, 0],\n",
      "       [0, 1, 0, 1, 2, 0, 0],\n",
      "       [0, 1, 0, 2, 1, 0, 0],\n",
      "       [0, 2, 0, 1, 1, 0, 0],\n",
      "       [0, 2, 0, 2, 1, 0, 0],\n",
      "       [1, 2, 2, 1, 2, 1, 0]], dtype=int32), -1, 15, -0.06666666666666667)\n",
      "(array([[0, 0, 0, 2, 0, 0, 0],\n",
      "       [0, 1, 0, 1, 2, 0, 0],\n",
      "       [0, 1, 0, 2, 1, 0, 0],\n",
      "       [0, 2, 0, 1, 1, 0, 0],\n",
      "       [0, 2, 2, 2, 1, 0, 0],\n",
      "       [1, 2, 2, 1, 2, 1, 0]], dtype=int32), 735, 890, 0.8258426966292135)\n",
      "(array([[0, 0, 0, 2, 2, 0, 0],\n",
      "       [0, 1, 0, 1, 2, 0, 0],\n",
      "       [0, 1, 0, 2, 1, 0, 0],\n",
      "       [0, 2, 0, 1, 1, 0, 0],\n",
      "       [0, 2, 0, 2, 1, 0, 0],\n",
      "       [1, 2, 2, 1, 2, 1, 0]], dtype=int32), 11, 37, 0.2972972972972973)\n",
      "(array([[0, 0, 0, 2, 0, 0, 0],\n",
      "       [0, 1, 0, 1, 2, 0, 0],\n",
      "       [0, 1, 0, 2, 1, 0, 0],\n",
      "       [0, 2, 0, 1, 1, 0, 0],\n",
      "       [0, 2, 0, 2, 1, 2, 0],\n",
      "       [1, 2, 2, 1, 2, 1, 0]], dtype=int32), 1, 18, 0.05555555555555555)\n",
      "(array([[0, 0, 0, 2, 0, 0, 0],\n",
      "       [0, 1, 0, 1, 2, 0, 0],\n",
      "       [0, 1, 0, 2, 1, 0, 0],\n",
      "       [0, 2, 0, 1, 1, 0, 0],\n",
      "       [0, 2, 0, 2, 1, 0, 0],\n",
      "       [1, 2, 2, 1, 2, 1, 2]], dtype=int32), 2, 20, 0.1)\n"
     ]
    },
    {
     "data": {
      "image/png": "[encoded data removed]",
      "text/plain": [
       "<Figure size 640x480 with 1 Axes>"
      ]
     },
     "metadata": {},
     "output_type": "display_data"
    },
    {
     "name": "stdout",
     "output_type": "stream",
     "text": [
      "moves=[3, 3, 3, 1, 5, 4, 4, 1, 4, 1, 1, 3, 4, 4, 3, 2, 1, 3, 0, 2]\n"
     ]
    },
    {
     "name": "stdin",
     "output_type": "stream",
     "text": [
      "Input column: 2\n"
     ]
    },
    {
     "data": {
      "image/png": "[encoded data removed]",
      "text/plain": [
       "<Figure size 640x480 with 1 Axes>"
      ]
     },
     "metadata": {},
     "output_type": "display_data"
    },
    {
     "name": "stdout",
     "output_type": "stream",
     "text": [
      "moves=[3, 3, 3, 1, 5, 4, 4, 1, 4, 1, 1, 3, 4, 4, 3, 2, 1, 3, 0, 2, 2]\n",
      "(array([[0, 0, 0, 2, 0, 0, 0],\n",
      "       [0, 1, 0, 1, 2, 0, 0],\n",
      "       [0, 1, 0, 2, 1, 0, 0],\n",
      "       [0, 2, 1, 1, 1, 0, 0],\n",
      "       [2, 2, 2, 2, 1, 0, 0],\n",
      "       [1, 2, 2, 1, 2, 1, 0]], dtype=int32), 967, 967, 1.0)\n",
      "(array([[0, 2, 0, 2, 0, 0, 0],\n",
      "       [0, 1, 0, 1, 2, 0, 0],\n",
      "       [0, 1, 0, 2, 1, 0, 0],\n",
      "       [0, 2, 1, 1, 1, 0, 0],\n",
      "       [0, 2, 2, 2, 1, 0, 0],\n",
      "       [1, 2, 2, 1, 2, 1, 0]], dtype=int32), -3, 5, -0.6)\n",
      "(array([[0, 0, 0, 2, 0, 0, 0],\n",
      "       [0, 1, 0, 1, 2, 0, 0],\n",
      "       [0, 1, 2, 2, 1, 0, 0],\n",
      "       [0, 2, 1, 1, 1, 0, 0],\n",
      "       [0, 2, 2, 2, 1, 0, 0],\n",
      "       [1, 2, 2, 1, 2, 1, 0]], dtype=int32), -1, 11, -0.09090909090909091)\n",
      "(array([[0, 0, 0, 2, 2, 0, 0],\n",
      "       [0, 1, 0, 1, 2, 0, 0],\n",
      "       [0, 1, 0, 2, 1, 0, 0],\n",
      "       [0, 2, 1, 1, 1, 0, 0],\n",
      "       [0, 2, 2, 2, 1, 0, 0],\n",
      "       [1, 2, 2, 1, 2, 1, 0]], dtype=int32), -4, 4, -1.0)\n",
      "(array([[0, 0, 0, 2, 0, 0, 0],\n",
      "       [0, 1, 0, 1, 2, 0, 0],\n",
      "       [0, 1, 0, 2, 1, 0, 0],\n",
      "       [0, 2, 1, 1, 1, 0, 0],\n",
      "       [0, 2, 2, 2, 1, 2, 0],\n",
      "       [1, 2, 2, 1, 2, 1, 0]], dtype=int32), -3, 5, -0.6)\n",
      "(array([[0, 0, 0, 2, 0, 0, 0],\n",
      "       [0, 1, 0, 1, 2, 0, 0],\n",
      "       [0, 1, 0, 2, 1, 0, 0],\n",
      "       [0, 2, 1, 1, 1, 0, 0],\n",
      "       [0, 2, 2, 2, 1, 0, 0],\n",
      "       [1, 2, 2, 1, 2, 1, 2]], dtype=int32), -3, 7, -0.42857142857142855)\n"
     ]
    },
    {
     "data": {
      "image/png": "[encoded data removed]",
      "text/plain": [
       "<Figure size 640x480 with 1 Axes>"
      ]
     },
     "metadata": {},
     "output_type": "display_data"
    },
    {
     "name": "stdout",
     "output_type": "stream",
     "text": [
      "moves=[3, 3, 3, 1, 5, 4, 4, 1, 4, 1, 1, 3, 4, 4, 3, 2, 1, 3, 0, 2, 2, 0]\n"
     ]
    }
   ],
   "source": [
    "AIgame()"
   ]
  },
  {
   "cell_type": "code",
   "execution_count": null,
   "id": "d1dcdc02-d031-4430-b0f0-361d73fa0a0b",
   "metadata": {},
   "outputs": [],
   "source": []
  },
  {
   "cell_type": "code",
   "execution_count": null,
   "id": "e545934c-12e5-407f-b5dc-4a62558d2186",
   "metadata": {},
   "outputs": [],
   "source": []
  },
  {
   "cell_type": "code",
   "execution_count": null,
   "id": "3e6f33a2-5406-407a-86b9-c843e006265b",
   "metadata": {},
   "outputs": [],
   "source": []
  },
  {
   "cell_type": "code",
   "execution_count": 44,
   "id": "5347da98-43d7-470e-ad02-3995a376f595",
   "metadata": {},
   "outputs": [],
   "source": [
    "# I should have written tests for this, but I got a bit lazy about writing tests because I didn't want to have\n",
    "# to create instances everywhere to test methods, but maybe I should've just done that.\n",
    "\n",
    "# anyway, empirically it seems to work well -- I played against it a bunch of times and it makes no obviously\n",
    "# bad moves and wins every time..."
   ]
  },
  {
   "cell_type": "code",
   "execution_count": null,
   "id": "8e1f1e57-0320-498c-a2e9-d617c03fe772",
   "metadata": {},
   "outputs": [],
   "source": []
  },
  {
   "cell_type": "code",
   "execution_count": 45,
   "id": "e1d00f46-a37c-4cf5-8fe1-25e519f94236",
   "metadata": {},
   "outputs": [],
   "source": [
    "# TESTS that i did write:"
   ]
  },
  {
   "cell_type": "code",
   "execution_count": 46,
   "id": "14a466f8-9988-4778-8bca-42be4efd1e1f",
   "metadata": {
    "scrolled": true
   },
   "outputs": [
    {
     "data": {
      "text/plain": [
       "[[0, 0, 0, 0], [0, 0, 0, 0], [0, 0, 0, 0]]"
      ]
     },
     "execution_count": 46,
     "metadata": {},
     "output_type": "execute_result"
    }
   ],
   "source": [
    "\n",
    "potential_val_lists(Connect4(), (0, 0))"
   ]
  },
  {
   "cell_type": "code",
   "execution_count": 3,
   "id": "37f39c5a-4a83-4183-9f40-ee91427fdf8e",
   "metadata": {},
   "outputs": [],
   "source": [
    "grid = np.array([\n",
    "    [0, 1, 2, 1, 0],\n",
    "    [2, 0, 1, 2, 1],\n",
    "    [1, 2, 0, 1, 2],\n",
    "    [2, 1, 0, 2, 1],\n",
    "    [0, 2, 1, 0, 2]\n",
    "])"
   ]
  },
  {
   "cell_type": "code",
   "execution_count": 47,
   "id": "5073fa32-f1a5-41a0-a83b-ce56060669c2",
   "metadata": {},
   "outputs": [
    {
     "data": {
      "image/png": "[encoded data removed]",
      "text/plain": [
       "<Figure size 640x480 with 1 Axes>"
      ]
     },
     "metadata": {},
     "output_type": "display_data"
    }
   ],
   "source": [
    "display(grid)"
   ]
  },
  {
   "cell_type": "code",
   "execution_count": 48,
   "id": "4eb74c12-0f2b-45ba-9764-485f2f3f5343",
   "metadata": {
    "scrolled": true
   },
   "outputs": [
    {
     "data": {
      "text/plain": [
       "Connect4 game:\n",
       "[[1 2 1 1 2 1 2]\n",
       " [1 2 1 2 2 2 1]\n",
       " [1 1 2 2 1 2 1]\n",
       " [2 1 2 1 1 1 2]\n",
       " [2 1 2 2 2 1 2]\n",
       " [2 2 1 2 1 1 1]]\n",
       "Draw"
      ]
     },
     "execution_count": 48,
     "metadata": {},
     "output_type": "execute_result"
    }
   ],
   "source": [
    "g = Connect4()\n",
    "g.random_finish()\n",
    "while not (g.player == None and g.winner == None):\n",
    "    g = Connect4()\n",
    "    g.random_finish()\n",
    "g"
   ]
  },
  {
   "cell_type": "code",
   "execution_count": 49,
   "id": "d8bb3e95-9576-4e7e-9d75-b07f2bbc6315",
   "metadata": {
    "scrolled": true
   },
   "outputs": [
    {
     "data": {
      "text/plain": [
       "Connect4 game:\n",
       "[[0 0 0 0 0 0 0]\n",
       " [0 0 0 0 0 0 0]\n",
       " [0 0 0 0 0 0 0]\n",
       " [0 0 0 0 0 0 0]\n",
       " [0 0 0 0 0 0 0]\n",
       " [1 0 0 0 0 0 0]]\n",
       "player: 2"
      ]
     },
     "execution_count": 49,
     "metadata": {},
     "output_type": "execute_result"
    }
   ],
   "source": [
    "g = Connect4()\n",
    "g.play(0)\n",
    "g"
   ]
  },
  {
   "cell_type": "code",
   "execution_count": 50,
   "id": "dfae2d22-8214-4b83-b24e-60b111cc9558",
   "metadata": {},
   "outputs": [
    {
     "data": {
      "text/plain": [
       "[(0, 1), (1, 2), (2, 3), (3, 4), (4, 5)]"
      ]
     },
     "execution_count": 50,
     "metadata": {},
     "output_type": "execute_result"
    }
   ],
   "source": [
    "in_range(7, 6, zip(range(-2, 15), range(-1, 10)))"
   ]
  },
  {
   "cell_type": "code",
   "execution_count": 55,
   "id": "fa299f03-55b5-451e-94a1-36a8ddcc13c9",
   "metadata": {},
   "outputs": [
    {
     "name": "stdout",
     "output_type": "stream",
     "text": [
      "Connect4 game:\n",
      "[[0 0 0 0 0 0 0]\n",
      " [0 0 0 0 0 0 0]\n",
      " [0 0 0 1 0 0 0]\n",
      " [0 0 1 2 0 0 0]\n",
      " [0 1 1 1 0 0 0]\n",
      " [1 2 2 2 0 2 0]]\n",
      "winner: 1\n"
     ]
    }
   ],
   "source": [
    "game = Connect4()\n",
    "game.play(0)\n",
    "game.play(1)\n",
    "game.play(1)\n",
    "game.play(3)\n",
    "game.play(3)\n",
    "game.play(3)\n",
    "game.play(3)\n",
    "game.play(2)\n",
    "game.play(2)\n",
    "game.play(5)\n",
    "game.play(2)\n",
    "print(game)\n",
    "#game.play(3)"
   ]
  },
  {
   "cell_type": "code",
   "execution_count": null,
   "id": "e5dd9055-16e5-40fe-8d27-01b138a57560",
   "metadata": {},
   "outputs": [],
   "source": []
  },
  {
   "cell_type": "code",
   "execution_count": 48,
   "id": "3cc56522-21dd-4839-9ec2-bc5f61e7e3ff",
   "metadata": {},
   "outputs": [],
   "source": [
    "def game_of_moves(movelist):\n",
    "    game = Connect4()\n",
    "    for move in movelist:\n",
    "        game = game.play(move)\n",
    "    return game"
   ]
  },
  {
   "cell_type": "code",
   "execution_count": null,
   "id": "33752d3b-078d-409d-b8c4-a81ab8d69747",
   "metadata": {},
   "outputs": [],
   "source": []
  },
  {
   "cell_type": "code",
   "execution_count": 54,
   "id": "1ad70dcf-2d75-4d5a-8c41-80b0f39eceee",
   "metadata": {},
   "outputs": [
    {
     "name": "stdout",
     "output_type": "stream",
     "text": [
      "(array([[0, 0, 0, 2, 0, 0, 0],\n",
      "       [0, 0, 0, 1, 0, 0, 0],\n",
      "       [0, 0, 1, 2, 1, 0, 0],\n",
      "       [0, 0, 1, 2, 2, 0, 0],\n",
      "       [2, 0, 1, 1, 1, 0, 0],\n",
      "       [2, 0, 2, 1, 2, 0, 0]], dtype=int32), -45, 63)\n",
      "(array([[0, 0, 0, 2, 0, 0, 0],\n",
      "       [0, 0, 0, 1, 0, 0, 0],\n",
      "       [0, 0, 1, 2, 1, 0, 0],\n",
      "       [0, 0, 1, 2, 2, 0, 0],\n",
      "       [0, 0, 1, 1, 1, 0, 0],\n",
      "       [2, 2, 2, 1, 2, 0, 0]], dtype=int32), -37, 47)\n",
      "(array([[0, 0, 0, 2, 0, 0, 0],\n",
      "       [0, 0, 2, 1, 0, 0, 0],\n",
      "       [0, 0, 1, 2, 1, 0, 0],\n",
      "       [0, 0, 1, 2, 2, 0, 0],\n",
      "       [0, 0, 1, 1, 1, 0, 0],\n",
      "       [2, 0, 2, 1, 2, 0, 0]], dtype=int32), -267, 689)\n",
      "(array([[0, 0, 0, 2, 0, 0, 0],\n",
      "       [0, 0, 0, 1, 2, 0, 0],\n",
      "       [0, 0, 1, 2, 1, 0, 0],\n",
      "       [0, 0, 1, 2, 2, 0, 0],\n",
      "       [0, 0, 1, 1, 1, 0, 0],\n",
      "       [2, 0, 2, 1, 2, 0, 0]], dtype=int32), -43, 59)\n",
      "(array([[0, 0, 0, 2, 0, 0, 0],\n",
      "       [0, 0, 0, 1, 0, 0, 0],\n",
      "       [0, 0, 1, 2, 1, 0, 0],\n",
      "       [0, 0, 1, 2, 2, 0, 0],\n",
      "       [0, 0, 1, 1, 1, 0, 0],\n",
      "       [2, 0, 2, 1, 2, 2, 0]], dtype=int32), -43, 59)\n",
      "(array([[0, 0, 0, 2, 0, 0, 0],\n",
      "       [0, 0, 0, 1, 0, 0, 0],\n",
      "       [0, 0, 1, 2, 1, 0, 0],\n",
      "       [0, 0, 1, 2, 2, 0, 0],\n",
      "       [0, 0, 1, 1, 1, 0, 0],\n",
      "       [2, 0, 2, 1, 2, 0, 2]], dtype=int32), -54, 82)\n"
     ]
    }
   ],
   "source": [
    "m6 = MCTSnode(game_of_moves([3, 4, 3, 3, 4, 3, 3, 2, 2, 4, 4, 0, 2, 3, 2]))\n",
    "m6.iterate(1000)\n",
    "m6._print_direct_children()"
   ]
  }
 ],
 "metadata": {
  "kernelspec": {
   "display_name": "Python 3 (ipykernel)",
   "language": "python",
   "name": "python3"
  },
  "language_info": {
   "codemirror_mode": {
    "name": "ipython",
    "version": 3
   },
   "file_extension": ".py",
   "mimetype": "text/x-python",
   "name": "python",
   "nbconvert_exporter": "python",
   "pygments_lexer": "ipython3",
   "version": "3.11.6"
  }
 },
 "nbformat": 4,
 "nbformat_minor": 5
}
