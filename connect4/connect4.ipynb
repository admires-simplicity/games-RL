{
 "cells": [
  {
   "cell_type": "code",
   "execution_count": 105,
   "id": "fee398d5-84af-46ed-9e57-5090e4523663",
   "metadata": {},
   "outputs": [],
   "source": [
    "%matplotlib inline\n",
    "# ^^ ensures plots are displayed in the notebook\n",
    "import matplotlib.pyplot as plt\n",
    "import numpy as np\n",
    "import random\n",
    "import math\n",
    "from itertools import repeat"
   ]
  },
  {
   "cell_type": "code",
   "execution_count": 106,
   "id": "5d38db86-bd3a-4345-b33a-72c1ad3e8ec8",
   "metadata": {},
   "outputs": [],
   "source": [
    "def display(grid):\n",
    "    cmap = plt.cm.colors.ListedColormap(['white', 'red', 'blue'])\n",
    "    plt.imshow(grid, cmap=cmap, interpolation='nearest')\n",
    "    # offset grid lines by half\n",
    "    plt.xticks(np.arange(-0.5, len(grid[0]), 1), [])\n",
    "    plt.yticks(np.arange(-0.5, len(grid), 1), [])\n",
    "    # show grid lines\n",
    "    plt.grid(True, which='both', color='black', linestyle='-', linewidth=1)\n",
    "    plt.show()\n",
    "\n",
    "# this function displays the colours wrong when only player 1 has moved. it displays 0 as white and 1 as red.\n",
    "# any other time it works as expected.\n",
    "# i'm guessing this is because of how ListedColormap works\n",
    "# i'm just gonna say this is fine because this function doesn't *really* matter, and any other solution I can find\n",
    "# seems way more complicated"
   ]
  },
  {
   "cell_type": "code",
   "execution_count": 107,
   "id": "37f39c5a-4a83-4183-9f40-ee91427fdf8e",
   "metadata": {},
   "outputs": [],
   "source": [
    "grid = np.array([\n",
    "    [0, 1, 2, 1, 0],\n",
    "    [2, 0, 1, 2, 1],\n",
    "    [1, 2, 0, 1, 2],\n",
    "    [2, 1, 0, 2, 1],\n",
    "    [0, 2, 1, 0, 2]\n",
    "])"
   ]
  },
  {
   "cell_type": "code",
   "execution_count": 108,
   "id": "5073fa32-f1a5-41a0-a83b-ce56060669c2",
   "metadata": {},
   "outputs": [
    {
     "data": {
      "image/png": "[encoded data removed]",
      "text/plain": [
       "<Figure size 640x480 with 1 Axes>"
      ]
     },
     "metadata": {},
     "output_type": "display_data"
    }
   ],
   "source": [
    "display(grid)"
   ]
  },
  {
   "cell_type": "code",
   "execution_count": 189,
   "id": "dbb3a78b-6230-4dce-b8bf-25d021484ab3",
   "metadata": {},
   "outputs": [],
   "source": [
    "def potential_pos_lists(pos):\n",
    "    x, y = pos\n",
    "    def filter(iterable):\n",
    "        return in_range(7, 6, iterable)\n",
    "        \n",
    "    row = filter(zip(range(x-3, x+4), repeat(y)))\n",
    "    col = filter(zip(repeat(x), range(y-3, y+4)))\n",
    "    diag1 = filter(zip(range(x-3, x+4), range(y-3, y+4)))\n",
    "    diag2 = filter(zip(range(x-3, x+4), range(y+3, y-4, -1)))\n",
    "\n",
    "    return [ s for s in [row, col, diag1, diag2] if len(s) >= 4 ]"
   ]
  },
  {
   "cell_type": "code",
   "execution_count": 196,
   "id": "c7ea404c-7578-44e3-b64a-1ded5bdf189e",
   "metadata": {},
   "outputs": [
    {
     "data": {
      "text/plain": [
       "[[0, 0, 0, 0], [0, 0, 0, 0], [0, 0, 0, 0]]"
      ]
     },
     "execution_count": 196,
     "metadata": {},
     "output_type": "execute_result"
    }
   ],
   "source": [
    "potential_val_lists(Connect4(), (0, 0))"
   ]
  },
  {
   "cell_type": "code",
   "execution_count": 190,
   "id": "47b9b94d-9ca6-4341-8173-cf5cbafeb078",
   "metadata": {},
   "outputs": [],
   "source": [
    "def potential_val_lists(game, pos):\n",
    "    return list(map(\n",
    "        lambda lst: list(map(\n",
    "            lambda pos: game.state[pos[1]][pos[0]],\n",
    "            lst)),\n",
    "        potential_pos_lists(pos)))"
   ]
  },
  {
   "cell_type": "code",
   "execution_count": 218,
   "id": "8dd3b9a5-1969-4b3e-9da0-959fa791c4d9",
   "metadata": {},
   "outputs": [],
   "source": [
    "def has_win(line, player):\n",
    "    count = 0\n",
    "    for val in cell_vals:\n",
    "        if val == player:\n",
    "            count += 1\n",
    "            if count == 4:\n",
    "                return True\n",
    "        else:\n",
    "            count = 0\n",
    "    return False"
   ]
  },
  {
   "cell_type": "code",
   "execution_count": 355,
   "id": "0a9cb72e-d3c0-455a-8e8e-c82b15285d29",
   "metadata": {},
   "outputs": [],
   "source": [
    "def invert_1_2(x):\n",
    "    return x ^ 3\n",
    "    \n",
    "#vinvert_1_2 = np.vectorize(invert_1_2)\n",
    "\n",
    "def empty_board():\n",
    "    return np.zeros((6, 7), dtype=np.int32)\n",
    "\n",
    "class Connect4:\n",
    "    def __init__(self, state=None):\n",
    "        self.state = empty_board() if state == None else state\n",
    "        self.player = 1\n",
    "        self.winner = None # None -> game in progress. winner == None && playing == None -> draw. maybe change this so -1 -> draw.\n",
    "\n",
    "    def __repr__(self):\n",
    "        return f'Connect4 game:\\n{self.state}\\n' + (\n",
    "            f'player: {self.player}' if self.player else\n",
    "            f'winner: {self.winner}' if self.winner else\n",
    "            'Draw'\n",
    "        )\n",
    "    \n",
    "    def update_player(self):\n",
    "        self.player = invert_1_2(self.player)\n",
    "\n",
    "    def play(self, col):\n",
    "        #print((self, self._open_indices, col))\n",
    "        def try_play(row):\n",
    "            if row == -1:\n",
    "                return False\n",
    "            elif self.state[row][col] == 0:\n",
    "                self.state[row][col] = self.player\n",
    "                # check for win here\n",
    "                # check if we have a run of 4 adjacent (in state range and same value as self.player) values\n",
    "                self._update_winner(col, row)\n",
    "                if (self.player):\n",
    "                    self.update_player()\n",
    "                return True\n",
    "            else:\n",
    "                return try_play(row - 1)\n",
    "\n",
    "        return try_play(self.last_row())\n",
    "\n",
    "    # def invert(self):\n",
    "    #     self.state = vinvert_1_2(self.state)\n",
    "\n",
    "    def last_row(self):\n",
    "        return self.state.shape[0] - 1\n",
    "\n",
    "    def _update_winner(self, x, y):\n",
    "        if True in map(\n",
    "            lambda line: has_run(line, self.player),\n",
    "            potential_val_lists(self, (x, y))):\n",
    "            self.winner = self.player\n",
    "            self.player = None\n",
    "        if self._open_indices == []:\n",
    "            self.player = None # Draw\n",
    "    \n",
    "    def random_finish(self):\n",
    "        while self.player:\n",
    "            move = random.randint(0, len(self._open_indices)-1)\n",
    "            self.play(self._open_indices[move])\n",
    "\n",
    "    @property\n",
    "    def _open_indices(self):\n",
    "        return [j for i, j in zip(self.state[0], range(len(self.state[0]))) if i == 0]\n",
    "\n",
    "    def copy(self):\n",
    "        tmp = Connect4(state=self.state.copy())\n",
    "        tmp.playing = self.playing\n",
    "        return tmp        "
   ]
  },
  {
   "cell_type": "code",
   "execution_count": 356,
   "id": "4eb74c12-0f2b-45ba-9764-485f2f3f5343",
   "metadata": {},
   "outputs": [
    {
     "data": {
      "text/plain": [
       "Connect4 game:\n",
       "[[1 2 2 2 1 2 1]\n",
       " [1 2 2 2 1 2 2]\n",
       " [2 2 1 1 2 2 1]\n",
       " [1 1 2 1 2 1 1]\n",
       " [2 2 1 1 2 2 2]\n",
       " [1 1 1 2 1 1 1]]\n",
       "Draw"
      ]
     },
     "execution_count": 356,
     "metadata": {},
     "output_type": "execute_result"
    }
   ],
   "source": [
    "g = Connect4()\n",
    "g.random_finish()\n",
    "while not (g.player == None and g.winner == None):\n",
    "    g = Connect4()\n",
    "    g.random_finish()\n",
    "g"
   ]
  },
  {
   "cell_type": "code",
   "execution_count": 284,
   "id": "d8bb3e95-9576-4e7e-9d75-b07f2bbc6315",
   "metadata": {},
   "outputs": [
    {
     "data": {
      "text/plain": [
       "Connect4 game:\n",
       "[[0 0 0 0 0 0 0]\n",
       " [0 0 0 0 0 0 0]\n",
       " [0 0 0 0 0 0 0]\n",
       " [0 0 0 0 0 0 0]\n",
       " [0 0 0 0 0 0 0]\n",
       " [1 0 0 0 0 0 0]]\n",
       "player: 2"
      ]
     },
     "execution_count": 284,
     "metadata": {},
     "output_type": "execute_result"
    }
   ],
   "source": [
    "g = Connect4()\n",
    "g.play(0)\n",
    "g"
   ]
  },
  {
   "cell_type": "code",
   "execution_count": 237,
   "id": "ff819e5d-fa93-4a41-bf80-650bcdcffb63",
   "metadata": {},
   "outputs": [],
   "source": [
    "def in_range(xthresh, ythresh, tuples):\n",
    "    return [ (x, y) for (x, y) in tuples if x >= 0 and x < xthresh and y >= 0 and y < ythresh ]"
   ]
  },
  {
   "cell_type": "code",
   "execution_count": 238,
   "id": "dfae2d22-8214-4b83-b24e-60b111cc9558",
   "metadata": {},
   "outputs": [
    {
     "data": {
      "text/plain": [
       "[(0, 1), (1, 2), (2, 3), (3, 4), (4, 5)]"
      ]
     },
     "execution_count": 238,
     "metadata": {},
     "output_type": "execute_result"
    }
   ],
   "source": [
    "in_range(7, 6, zip(range(-2, 15), range(-1, 10)))"
   ]
  },
  {
   "cell_type": "code",
   "execution_count": 239,
   "id": "6ed108d4-01c4-4d0a-82fa-116445290bf1",
   "metadata": {},
   "outputs": [
    {
     "data": {
      "text/plain": [
       "[[(0, 4), (1, 4), (2, 4), (3, 4), (4, 4), (5, 4), (6, 4)],\n",
       " [(3, 1), (3, 2), (3, 3), (3, 4), (3, 5)],\n",
       " [(0, 1), (1, 2), (2, 3), (3, 4), (4, 5)],\n",
       " [(2, 5), (3, 4), (4, 3), (5, 2), (6, 1)]]"
      ]
     },
     "execution_count": 239,
     "metadata": {},
     "output_type": "execute_result"
    }
   ],
   "source": [
    "lines_to_check((3, 4))"
   ]
  },
  {
   "cell_type": "code",
   "execution_count": 240,
   "id": "16efe3ae-a8e5-4a8a-a0f4-c9388d0d579b",
   "metadata": {},
   "outputs": [
    {
     "data": {
      "text/plain": [
       "[[2, 3, 4], [5, 6, 7], [8, 9, 10]]"
      ]
     },
     "execution_count": 240,
     "metadata": {},
     "output_type": "execute_result"
    }
   ],
   "source": [
    "list(map(lambda lst: list(map(lambda x: x + 1, lst)), [[1, 2, 3], [4, 5, 6], [7, 8, 9]]))"
   ]
  },
  {
   "cell_type": "code",
   "execution_count": 241,
   "id": "937f1771-b31b-42f3-807f-969f06d6abe0",
   "metadata": {},
   "outputs": [
    {
     "data": {
      "text/plain": [
       "[[0, 1, 1, 1, 0, 0, 0], [0, 1, 2, 1, 2], [0, 0, 1, 1, 0], [2, 1, 0, 0, 0]]"
      ]
     },
     "execution_count": 241,
     "metadata": {},
     "output_type": "execute_result"
    }
   ],
   "source": [
    "list(map(lambda lst: list(map(lambda pos: game.state[pos[1]][pos[0]], lst)), lines_to_check((3, 4))))"
   ]
  },
  {
   "cell_type": "code",
   "execution_count": 242,
   "id": "1eb16656-a9f9-4d90-a4fc-64c6f8b46508",
   "metadata": {},
   "outputs": [
    {
     "data": {
      "text/plain": [
       "[[0, 0, 1, 2, 0, 0], [0, 0, 0, 1, 1, 2], [0, 0, 1, 1, 0], [1, 1, 1, 1, 0, 0]]"
      ]
     },
     "execution_count": 242,
     "metadata": {},
     "output_type": "execute_result"
    }
   ],
   "source": [
    "list(map(lambda lst: list(map(lambda pos: game.state[pos[1]][pos[0]], lst)), lines_to_check((2, 3))))"
   ]
  },
  {
   "cell_type": "code",
   "execution_count": 243,
   "id": "f5342af0-f9cd-4f1d-9d4d-32c954675d16",
   "metadata": {},
   "outputs": [],
   "source": [
    "def has_run(cell_vals, player):\n",
    "    count = 0\n",
    "    for val in cell_vals:\n",
    "        if val == player:\n",
    "            count += 1\n",
    "        else:\n",
    "            count = 0\n",
    "        if count == 4:\n",
    "            return True\n",
    "    return False"
   ]
  },
  {
   "cell_type": "code",
   "execution_count": 244,
   "id": "79f45bfb-0139-4e67-92e7-0169302d5597",
   "metadata": {},
   "outputs": [],
   "source": [
    "def winning_move(game, player, pos):\n",
    "    potential_lines = list(map(lambda lst: list(map(lambda pos: game.state[pos[1]][pos[0]], lst)), lines_to_check(pos)))\n",
    "    return True in map(\n",
    "        lambda line: has_run(line, player),\n",
    "        potential_lines)"
   ]
  },
  {
   "cell_type": "code",
   "execution_count": 245,
   "id": "97863c4a-7ab0-41f5-803c-634a8492c46c",
   "metadata": {},
   "outputs": [
    {
     "data": {
      "text/plain": [
       "True"
      ]
     },
     "execution_count": 245,
     "metadata": {},
     "output_type": "execute_result"
    }
   ],
   "source": [
    "winning_move(game, 1, (2, 3))"
   ]
  },
  {
   "cell_type": "code",
   "execution_count": 246,
   "id": "dbcea507-550e-42da-b0b1-eef79e038d79",
   "metadata": {},
   "outputs": [
    {
     "data": {
      "text/plain": [
       "True"
      ]
     },
     "execution_count": 246,
     "metadata": {},
     "output_type": "execute_result"
    }
   ],
   "source": [
    "5 in range(10)"
   ]
  },
  {
   "cell_type": "code",
   "execution_count": 247,
   "id": "06ce0684-81ec-4b7f-a2ce-61e29c333446",
   "metadata": {},
   "outputs": [
    {
     "data": {
      "text/plain": [
       "[(-5, 4), (-4, 5), (-3, 6), (-2, 7)]"
      ]
     },
     "execution_count": 247,
     "metadata": {},
     "output_type": "execute_result"
    }
   ],
   "source": [
    "[ i for i in zip(range(-5, 10), range(4, 8)) ]"
   ]
  },
  {
   "cell_type": "code",
   "execution_count": 358,
   "id": "fa299f03-55b5-451e-94a1-36a8ddcc13c9",
   "metadata": {},
   "outputs": [
    {
     "name": "stdout",
     "output_type": "stream",
     "text": [
      "Connect4 game:\n",
      "[[0 0 0 0 0 0 0]\n",
      " [0 0 0 0 0 0 0]\n",
      " [0 0 0 1 0 0 0]\n",
      " [0 0 1 2 0 0 0]\n",
      " [0 1 1 1 0 0 0]\n",
      " [1 2 2 2 0 2 0]]\n",
      "winner: 1\n"
     ]
    }
   ],
   "source": [
    "game = Connect4()\n",
    "game.play(0)\n",
    "game.play(1)\n",
    "game.play(1)\n",
    "game.play(3)\n",
    "game.play(3)\n",
    "game.play(3)\n",
    "game.play(3)\n",
    "game.play(2)\n",
    "game.play(2)\n",
    "game.play(5)\n",
    "game.play(2)\n",
    "print(game)\n",
    "#game.play(3)"
   ]
  },
  {
   "cell_type": "code",
   "execution_count": 173,
   "id": "607af5f1-34c8-4b29-87cb-6e9ded1ca427",
   "metadata": {},
   "outputs": [
    {
     "data": {
      "text/plain": [
       "array([[0, 0, 0, 0, 0, 0, 0],\n",
       "       [0, 0, 0, 0, 0, 0, 0],\n",
       "       [0, 0, 0, 0, 0, 0, 0],\n",
       "       [0, 0, 0, 0, 0, 0, 0],\n",
       "       [0, 0, 0, 0, 0, 0, 0],\n",
       "       [0, 0, 0, 0, 0, 0, 0]], dtype=int32)"
      ]
     },
     "execution_count": 173,
     "metadata": {},
     "output_type": "execute_result"
    }
   ],
   "source": [
    "game = Connect4()\n",
    "game.state"
   ]
  },
  {
   "cell_type": "code",
   "execution_count": 273,
   "id": "469a2fa8-60d2-441f-8dab-b04335253567",
   "metadata": {},
   "outputs": [
    {
     "ename": "TypeError",
     "evalue": "int() argument must be a string, a bytes-like object or a real number, not 'NoneType'",
     "output_type": "error",
     "traceback": [
      "\u001b[0;31m---------------------------------------------------------------------------\u001b[0m",
      "\u001b[0;31mTypeError\u001b[0m                                 Traceback (most recent call last)",
      "Cell \u001b[0;32mIn[273], line 1\u001b[0m\n\u001b[0;32m----> 1\u001b[0m \u001b[43mgame\u001b[49m\u001b[38;5;241;43m.\u001b[39;49m\u001b[43mplay\u001b[49m\u001b[43m(\u001b[49m\u001b[38;5;241;43m2\u001b[39;49m\u001b[43m)\u001b[49m\n\u001b[1;32m      2\u001b[0m display(game\u001b[38;5;241m.\u001b[39mstate)\n\u001b[1;32m      3\u001b[0m \u001b[38;5;28mprint\u001b[39m(game\u001b[38;5;241m.\u001b[39mstate)\n",
      "Cell \u001b[0;32mIn[249], line 40\u001b[0m, in \u001b[0;36mConnect4.play\u001b[0;34m(self, col)\u001b[0m\n\u001b[1;32m     37\u001b[0m     \u001b[38;5;28;01melse\u001b[39;00m:\n\u001b[1;32m     38\u001b[0m         try_play(row \u001b[38;5;241m-\u001b[39m \u001b[38;5;241m1\u001b[39m)\n\u001b[0;32m---> 40\u001b[0m \u001b[43mtry_play\u001b[49m\u001b[43m(\u001b[49m\u001b[38;5;28;43mself\u001b[39;49m\u001b[38;5;241;43m.\u001b[39;49m\u001b[43mlast_row\u001b[49m\u001b[43m(\u001b[49m\u001b[43m)\u001b[49m\u001b[43m)\u001b[49m\n",
      "Cell \u001b[0;32mIn[249], line 38\u001b[0m, in \u001b[0;36mConnect4.play.<locals>.try_play\u001b[0;34m(row)\u001b[0m\n\u001b[1;32m     36\u001b[0m     \u001b[38;5;28;01mreturn\u001b[39;00m \u001b[38;5;28;01mTrue\u001b[39;00m\n\u001b[1;32m     37\u001b[0m \u001b[38;5;28;01melse\u001b[39;00m:\n\u001b[0;32m---> 38\u001b[0m     \u001b[43mtry_play\u001b[49m\u001b[43m(\u001b[49m\u001b[43mrow\u001b[49m\u001b[43m \u001b[49m\u001b[38;5;241;43m-\u001b[39;49m\u001b[43m \u001b[49m\u001b[38;5;241;43m1\u001b[39;49m\u001b[43m)\u001b[49m\n",
      "Cell \u001b[0;32mIn[249], line 38\u001b[0m, in \u001b[0;36mConnect4.play.<locals>.try_play\u001b[0;34m(row)\u001b[0m\n\u001b[1;32m     36\u001b[0m     \u001b[38;5;28;01mreturn\u001b[39;00m \u001b[38;5;28;01mTrue\u001b[39;00m\n\u001b[1;32m     37\u001b[0m \u001b[38;5;28;01melse\u001b[39;00m:\n\u001b[0;32m---> 38\u001b[0m     \u001b[43mtry_play\u001b[49m\u001b[43m(\u001b[49m\u001b[43mrow\u001b[49m\u001b[43m \u001b[49m\u001b[38;5;241;43m-\u001b[39;49m\u001b[43m \u001b[49m\u001b[38;5;241;43m1\u001b[39;49m\u001b[43m)\u001b[49m\n",
      "Cell \u001b[0;32mIn[249], line 38\u001b[0m, in \u001b[0;36mConnect4.play.<locals>.try_play\u001b[0;34m(row)\u001b[0m\n\u001b[1;32m     36\u001b[0m     \u001b[38;5;28;01mreturn\u001b[39;00m \u001b[38;5;28;01mTrue\u001b[39;00m\n\u001b[1;32m     37\u001b[0m \u001b[38;5;28;01melse\u001b[39;00m:\n\u001b[0;32m---> 38\u001b[0m     \u001b[43mtry_play\u001b[49m\u001b[43m(\u001b[49m\u001b[43mrow\u001b[49m\u001b[43m \u001b[49m\u001b[38;5;241;43m-\u001b[39;49m\u001b[43m \u001b[49m\u001b[38;5;241;43m1\u001b[39;49m\u001b[43m)\u001b[49m\n",
      "Cell \u001b[0;32mIn[249], line 30\u001b[0m, in \u001b[0;36mConnect4.play.<locals>.try_play\u001b[0;34m(row)\u001b[0m\n\u001b[1;32m     28\u001b[0m     \u001b[38;5;28;01mreturn\u001b[39;00m \u001b[38;5;28;01mFalse\u001b[39;00m\n\u001b[1;32m     29\u001b[0m \u001b[38;5;28;01melif\u001b[39;00m \u001b[38;5;28mself\u001b[39m\u001b[38;5;241m.\u001b[39mstate[row][col] \u001b[38;5;241m==\u001b[39m \u001b[38;5;241m0\u001b[39m:\n\u001b[0;32m---> 30\u001b[0m     \u001b[38;5;28;43mself\u001b[39;49m\u001b[38;5;241;43m.\u001b[39;49m\u001b[43mstate\u001b[49m\u001b[43m[\u001b[49m\u001b[43mrow\u001b[49m\u001b[43m]\u001b[49m\u001b[43m[\u001b[49m\u001b[43mcol\u001b[49m\u001b[43m]\u001b[49m \u001b[38;5;241m=\u001b[39m \u001b[38;5;28mself\u001b[39m\u001b[38;5;241m.\u001b[39mplayer\n\u001b[1;32m     31\u001b[0m     \u001b[38;5;66;03m# check for win here\u001b[39;00m\n\u001b[1;32m     32\u001b[0m     \u001b[38;5;66;03m# check if we have a run of 4 adjacent (in state range and same value as self.player) values\u001b[39;00m\n\u001b[1;32m     33\u001b[0m     \u001b[38;5;28mself\u001b[39m\u001b[38;5;241m.\u001b[39m_update_winner(col, row)\n",
      "\u001b[0;31mTypeError\u001b[0m: int() argument must be a string, a bytes-like object or a real number, not 'NoneType'"
     ]
    }
   ],
   "source": [
    "game.play(2)\n",
    "display(game.state)\n",
    "print(game.state)\n",
    "print(game._open_indices)"
   ]
  },
  {
   "cell_type": "code",
   "execution_count": 52,
   "id": "b299ec3a-b40c-4d16-afda-d49d6f978514",
   "metadata": {},
   "outputs": [
    {
     "data": {
      "text/plain": [
       "2"
      ]
     },
     "execution_count": 52,
     "metadata": {},
     "output_type": "execute_result"
    }
   ],
   "source": [
    "a = [1, 2, 0, 2, 0, 1]\n",
    "len([1 for n in a if n == 0])"
   ]
  },
  {
   "cell_type": "code",
   "execution_count": 53,
   "id": "73d6f118-49aa-4448-8373-d45c506668c9",
   "metadata": {},
   "outputs": [],
   "source": [
    "br = '\\n'\n",
    "comma = ','\n",
    "root2 = math.sqrt(2)\n",
    "\n",
    "class MCTSnode():\n",
    "    def __init__(self, game, player=None, move=None):\n",
    "        self.total = 0\n",
    "        self.visits = 0\n",
    "        self.C = root2\n",
    "        self.game = game\n",
    "        self.player = player if player else game.opponent\n",
    "        self.move = move\n",
    "        self.children = None\n",
    "\n",
    "    def __repr__(self):\n",
    "        return f'\\n{str(self.game.state).replace(br, comma)}, {self.player=}, {self.move=}, {self.total=}, {self.visits=} {self.children=}'\n",
    "\n",
    "    def _print_direct_children(self):\n",
    "        for child in self.children:\n",
    "            print((child.game.state, child.total, child.visits))\n",
    "\n",
    "    def UCB1(self, parent_visits):\n",
    "        if self.visits == 0:\n",
    "            return sys.float_info.max\n",
    "        else:\n",
    "            return (self.total / self.visits) + self.C * math.sqrt(math.log(parent_visits) / self.visits)\n",
    "\n",
    "    # Score function for given game\n",
    "    def score(self, game):\n",
    "        assert game.playing == None, \"Cannot score incomplete game.\"\n",
    "        if game.winner == self.player:\n",
    "            return 1\n",
    "        elif game.winner == None: # draw\n",
    "            return 0\n",
    "        else:\n",
    "            return -1\n",
    "\n",
    "    def simulate(self):\n",
    "        simulation = self.game.copy()\n",
    "        if simulation.winner == None:\n",
    "            simulation.random_finish()\n",
    "        return self.score(simulation)\n",
    "        # maybe \"random finish\" should be in an MCTS subclass or in a wrapper\n",
    "        # class on the game class ?\n",
    "        # if we assume it should be in a wrapper class on game class,\n",
    "        # nothing actually has to change from the perspective of MCTSnode...\n",
    "\n",
    "    def rollout(self):\n",
    "        score = self.simulate()\n",
    "        self.total += score\n",
    "        self.visits += 1\n",
    "        return score\n",
    "        # \"rollout\" of a terminal node just returns the winner.\n",
    "\n",
    "    @property\n",
    "    def opponent(self):\n",
    "        return self.player ^ 3 # is it a problem that we have an identical function\n",
    "        # here and in the game class?\n",
    "\n",
    "    def add_children(self):\n",
    "        assert self.game._open_indices\n",
    "        assert self.game.winner == None\n",
    "        \n",
    "        self.children = [\n",
    "            MCTSnode(self.game.copy().play(move), player=self.opponent, move=move) for move in self.game._open_indices\n",
    "        ]\n",
    "\n",
    "    def iterate_best_child(self):\n",
    "        UCBs = [ (child.UCB1(self.visits), i) for (i, child) in list(enumerate(self.children)) ]\n",
    "        (max_ucb, i) = max(UCBs)\n",
    "        score = -self.children[i].iteration() # negative score because we're scoring opponent's move\n",
    "        self.total += score\n",
    "        self.visits += 1\n",
    "        return score\n",
    "\n",
    "    def iteration(self):\n",
    "        if self.game.playing is None:\n",
    "            score = self.score(self.game)\n",
    "            self.total += score\n",
    "            self.visits += 1\n",
    "            return score\n",
    "            \n",
    "        if self.visits == 0 or self.children == []: # unvisited OR guaranteed losing node -- no children\n",
    "            return self.rollout()\n",
    "        if self.children is None:\n",
    "            self.add_children()\n",
    "            return self.iteration() # can't call iterate_best_child() directly since we don't know if add_children added anything\n",
    "        else: # have children\n",
    "            return self.iterate_best_child()\n",
    "\n",
    "    def iterate(self, n=1):\n",
    "        for i in range(n):\n",
    "            self.iteration()\n",
    "        return self\n",
    "\n",
    "    def best_move(self):\n",
    "        if self.children == None:\n",
    "            return None\n",
    "\n",
    "        best_child = self.children[0]\n",
    "        best_UCB1 = best_child.UCB1(self.visits)\n",
    "        for child in self.children[1:]:\n",
    "            child_score = child.UCB1(self.visits)\n",
    "            if child_score > best_UCB1:\n",
    "                best_child = child\n",
    "                best_UCB1 = child_score\n",
    "    \n",
    "        # for i in range(3):\n",
    "        #     for j in range(3):\n",
    "        #         if self.game.state[i][j] == 0 and best_child.game.state[i][j] == self.player:\n",
    "        #             return (j, i) # if we store move this could be self.move\n",
    "\n",
    "        if best_child.move:\n",
    "            return best_child.move\n",
    "        \n",
    "        print(\"ERROR\")\n",
    "        print(self.game)\n",
    "        print(self.game._open_indices)\n",
    "        assert False, \"Didn't find any move in best_move\"\n",
    "\n",
    "\n"
   ]
  },
  {
   "cell_type": "code",
   "execution_count": null,
   "id": "47540c09-0205-4387-a9f6-61f02494d4a5",
   "metadata": {},
   "outputs": [],
   "source": []
  },
  {
   "cell_type": "code",
   "execution_count": 41,
   "id": "9248d2b4-0005-4148-86e2-2ff424945bfc",
   "metadata": {},
   "outputs": [],
   "source": [
    "def AIgame(player=1, iterations=1000):\n",
    "    assert player == 1 or player == 2, \"Player can only be 1 or 2\"\n",
    "\n",
    "    g = TicTacToeGame()\n",
    "    \n",
    "    while g.playing:\n",
    "        print(g)\n",
    "        if g.playing == player:\n",
    "            x, y = None, None\n",
    "            while (x, y) == (None, None):\n",
    "                _x, _y = input(\"Input two numbers (separated by space)\").split(' ')\n",
    "                try:\n",
    "                    (x, y) = int(_x), int(_y)\n",
    "                except ValueError:\n",
    "                    \"Invalid input\"\n",
    "            g.play((x, y))\n",
    "        else:\n",
    "            MCTS = MCTSnode(g.copy())\n",
    "            MCTS.iterate(iterations)\n",
    "            g.play(MCTS.best_move())\n",
    "\n",
    "    print(g)\n"
   ]
  },
  {
   "cell_type": "code",
   "execution_count": 280,
   "id": "ec6c4309-73e1-4026-bf43-f0ae60b3d485",
   "metadata": {},
   "outputs": [
    {
     "name": "stdout",
     "output_type": "stream",
     "text": [
      "(Connect4 game:\n",
      "[[0 0 0 0 0 0 0]\n",
      " [0 0 0 0 0 0 0]\n",
      " [0 0 0 0 0 0 0]\n",
      " [0 0 0 0 0 0 0]\n",
      " [0 0 0 0 0 0 0]\n",
      " [0 0 0 0 0 0 0]]\n",
      "player: 1, [0, 1, 2, 3, 4, 5, 6], 3)\n",
      "(Connect4 game:\n",
      "[[0 0 0 0 0 0 0]\n",
      " [0 0 0 0 0 0 0]\n",
      " [0 0 0 0 0 0 0]\n",
      " [0 0 0 0 0 0 0]\n",
      " [0 0 0 0 0 0 0]\n",
      " [0 0 0 1 0 0 0]]\n",
      "player: 2, [0, 1, 2, 3, 4, 5, 6], 6)\n",
      "(Connect4 game:\n",
      "[[0 0 0 0 0 0 0]\n",
      " [0 0 0 0 0 0 0]\n",
      " [0 0 0 0 0 0 0]\n",
      " [0 0 0 0 0 0 0]\n",
      " [0 0 0 0 0 0 0]\n",
      " [0 0 0 1 0 0 2]]\n",
      "player: 1, [0, 1, 2, 3, 4, 5, 6], 4)\n",
      "(Connect4 game:\n",
      "[[0 0 0 0 0 0 0]\n",
      " [0 0 0 0 0 0 0]\n",
      " [0 0 0 0 0 0 0]\n",
      " [0 0 0 0 0 0 0]\n",
      " [0 0 0 0 0 0 0]\n",
      " [0 0 0 1 1 0 2]]\n",
      "player: 2, [0, 1, 2, 3, 4, 5, 6], 4)\n",
      "(Connect4 game:\n",
      "[[0 0 0 0 0 0 0]\n",
      " [0 0 0 0 0 0 0]\n",
      " [0 0 0 0 0 0 0]\n",
      " [0 0 0 0 0 0 0]\n",
      " [0 0 0 0 2 0 0]\n",
      " [0 0 0 1 1 0 2]]\n",
      "player: 1, [0, 1, 2, 3, 4, 5, 6], 1)\n",
      "(Connect4 game:\n",
      "[[0 0 0 0 0 0 0]\n",
      " [0 0 0 0 0 0 0]\n",
      " [0 0 0 0 0 0 0]\n",
      " [0 0 0 0 0 0 0]\n",
      " [0 0 0 0 2 0 0]\n",
      " [0 1 0 1 1 0 2]]\n",
      "player: 2, [0, 1, 2, 3, 4, 5, 6], 1)\n",
      "(Connect4 game:\n",
      "[[0 0 0 0 0 0 0]\n",
      " [0 0 0 0 0 0 0]\n",
      " [0 0 0 0 0 0 0]\n",
      " [0 0 0 0 0 0 0]\n",
      " [0 2 0 0 2 0 0]\n",
      " [0 1 0 1 1 0 2]]\n",
      "player: 1, [0, 1, 2, 3, 4, 5, 6], 4)\n",
      "(Connect4 game:\n",
      "[[0 0 0 0 0 0 0]\n",
      " [0 0 0 0 0 0 0]\n",
      " [0 0 0 0 0 0 0]\n",
      " [0 0 0 0 1 0 0]\n",
      " [0 2 0 0 2 0 0]\n",
      " [0 1 0 1 1 0 2]]\n",
      "player: 2, [0, 1, 2, 3, 4, 5, 6], 2)\n",
      "(Connect4 game:\n",
      "[[0 0 0 0 0 0 0]\n",
      " [0 0 0 0 0 0 0]\n",
      " [0 0 0 0 0 0 0]\n",
      " [0 0 0 0 1 0 0]\n",
      " [0 2 0 0 2 0 0]\n",
      " [0 1 2 1 1 0 2]]\n",
      "player: 1, [0, 1, 2, 3, 4, 5, 6], 1)\n",
      "(Connect4 game:\n",
      "[[0 0 0 0 0 0 0]\n",
      " [0 0 0 0 0 0 0]\n",
      " [0 0 0 0 0 0 0]\n",
      " [0 1 0 0 1 0 0]\n",
      " [0 2 0 0 2 0 0]\n",
      " [0 1 2 1 1 0 2]]\n",
      "player: 2, [0, 1, 2, 3, 4, 5, 6], 5)\n",
      "(Connect4 game:\n",
      "[[0 0 0 0 0 0 0]\n",
      " [0 0 0 0 0 0 0]\n",
      " [0 0 0 0 0 0 0]\n",
      " [0 1 0 0 1 0 0]\n",
      " [0 2 0 0 2 0 0]\n",
      " [0 1 2 1 1 2 2]]\n",
      "player: 1, [0, 1, 2, 3, 4, 5, 6], 0)\n",
      "(Connect4 game:\n",
      "[[0 0 0 0 0 0 0]\n",
      " [0 0 0 0 0 0 0]\n",
      " [0 0 0 0 0 0 0]\n",
      " [0 1 0 0 1 0 0]\n",
      " [0 2 0 0 2 0 0]\n",
      " [1 1 2 1 1 2 2]]\n",
      "player: 2, [0, 1, 2, 3, 4, 5, 6], 4)\n",
      "(Connect4 game:\n",
      "[[0 0 0 0 0 0 0]\n",
      " [0 0 0 0 0 0 0]\n",
      " [0 0 0 0 2 0 0]\n",
      " [0 1 0 0 1 0 0]\n",
      " [0 2 0 0 2 0 0]\n",
      " [1 1 2 1 1 2 2]]\n",
      "player: 1, [0, 1, 2, 3, 4, 5, 6], 2)\n",
      "(Connect4 game:\n",
      "[[0 0 0 0 0 0 0]\n",
      " [0 0 0 0 0 0 0]\n",
      " [0 0 0 0 2 0 0]\n",
      " [0 1 0 0 1 0 0]\n",
      " [0 2 1 0 2 0 0]\n",
      " [1 1 2 1 1 2 2]]\n",
      "player: 2, [0, 1, 2, 3, 4, 5, 6], 4)\n",
      "(Connect4 game:\n",
      "[[0 0 0 0 0 0 0]\n",
      " [0 0 0 0 2 0 0]\n",
      " [0 0 0 0 2 0 0]\n",
      " [0 1 0 0 1 0 0]\n",
      " [0 2 1 0 2 0 0]\n",
      " [1 1 2 1 1 2 2]]\n",
      "player: 1, [0, 1, 2, 3, 4, 5, 6], 3)\n",
      "(Connect4 game:\n",
      "[[0 0 0 0 0 0 0]\n",
      " [0 0 0 0 2 0 0]\n",
      " [0 0 0 0 2 0 0]\n",
      " [0 1 0 0 1 0 0]\n",
      " [0 2 1 1 2 0 0]\n",
      " [1 1 2 1 1 2 2]]\n",
      "player: 2, [0, 1, 2, 3, 4, 5, 6], 5)\n",
      "(Connect4 game:\n",
      "[[0 0 0 0 0 0 0]\n",
      " [0 0 0 0 2 0 0]\n",
      " [0 0 0 0 2 0 0]\n",
      " [0 1 0 0 1 0 0]\n",
      " [0 2 1 1 2 2 0]\n",
      " [1 1 2 1 1 2 2]]\n",
      "player: 1, [0, 1, 2, 3, 4, 5, 6], 3)\n",
      "(Connect4 game:\n",
      "[[0 0 0 0 0 0 0]\n",
      " [0 0 0 0 2 0 0]\n",
      " [0 0 0 0 2 0 0]\n",
      " [0 1 0 1 1 0 0]\n",
      " [0 2 1 1 2 2 0]\n",
      " [1 1 2 1 1 2 2]]\n",
      "player: 2, [0, 1, 2, 3, 4, 5, 6], 2)\n",
      "(Connect4 game:\n",
      "[[0 0 0 0 0 0 0]\n",
      " [0 0 0 0 2 0 0]\n",
      " [0 0 0 0 2 0 0]\n",
      " [0 1 2 1 1 0 0]\n",
      " [0 2 1 1 2 2 0]\n",
      " [1 1 2 1 1 2 2]]\n",
      "player: 1, [0, 1, 2, 3, 4, 5, 6], 4)\n",
      "(Connect4 game:\n",
      "[[0 0 0 0 1 0 0]\n",
      " [0 0 0 0 2 0 0]\n",
      " [0 0 0 0 2 0 0]\n",
      " [0 1 2 1 1 0 0]\n",
      " [0 2 1 1 2 2 0]\n",
      " [1 1 2 1 1 2 2]]\n",
      "player: 2, [0, 1, 2, 3, 5, 6], 6)\n",
      "(Connect4 game:\n",
      "[[0 0 0 0 1 0 0]\n",
      " [0 0 0 0 2 0 0]\n",
      " [0 0 0 0 2 0 0]\n",
      " [0 1 2 1 1 0 0]\n",
      " [0 2 1 1 2 2 2]\n",
      " [1 1 2 1 1 2 2]]\n",
      "player: 1, [0, 1, 2, 3, 5, 6], 5)\n",
      "(Connect4 game:\n",
      "[[0 0 0 0 1 0 0]\n",
      " [0 0 0 0 2 0 0]\n",
      " [0 0 0 0 2 0 0]\n",
      " [0 1 2 1 1 1 0]\n",
      " [0 2 1 1 2 2 2]\n",
      " [1 1 2 1 1 2 2]]\n",
      "player: 2, [0, 1, 2, 3, 5, 6], 1)\n",
      "(Connect4 game:\n",
      "[[0 0 0 0 1 0 0]\n",
      " [0 0 0 0 2 0 0]\n",
      " [0 2 0 0 2 0 0]\n",
      " [0 1 2 1 1 1 0]\n",
      " [0 2 1 1 2 2 2]\n",
      " [1 1 2 1 1 2 2]]\n",
      "player: 1, [0, 1, 2, 3, 5, 6], 0)\n",
      "(Connect4 game:\n",
      "[[0 0 0 0 1 0 0]\n",
      " [0 0 0 0 2 0 0]\n",
      " [0 2 0 0 2 0 0]\n",
      " [0 1 2 1 1 1 0]\n",
      " [1 2 1 1 2 2 2]\n",
      " [1 1 2 1 1 2 2]]\n",
      "player: 2, [0, 1, 2, 3, 5, 6], 2)\n",
      "(Connect4 game:\n",
      "[[0 0 0 0 1 0 0]\n",
      " [0 0 0 0 2 0 0]\n",
      " [0 2 2 0 2 0 0]\n",
      " [0 1 2 1 1 1 0]\n",
      " [1 2 1 1 2 2 2]\n",
      " [1 1 2 1 1 2 2]]\n",
      "player: 1, [0, 1, 2, 3, 5, 6], 0)\n",
      "(Connect4 game:\n",
      "[[0 0 0 0 1 0 0]\n",
      " [0 0 0 0 2 0 0]\n",
      " [0 2 2 0 2 0 0]\n",
      " [1 1 2 1 1 1 0]\n",
      " [1 2 1 1 2 2 2]\n",
      " [1 1 2 1 1 2 2]]\n",
      "player: 2, [0, 1, 2, 3, 5, 6], 1)\n",
      "(Connect4 game:\n",
      "[[0 0 0 0 1 0 0]\n",
      " [0 2 0 0 2 0 0]\n",
      " [0 2 2 0 2 0 0]\n",
      " [1 1 2 1 1 1 0]\n",
      " [1 2 1 1 2 2 2]\n",
      " [1 1 2 1 1 2 2]]\n",
      "player: 1, [0, 1, 2, 3, 5, 6], 6)\n",
      "(Connect4 game:\n",
      "[[0 0 0 0 1 0 0]\n",
      " [0 2 0 0 2 0 0]\n",
      " [0 2 2 0 2 0 0]\n",
      " [1 1 2 1 1 1 1]\n",
      " [1 2 1 1 2 2 2]\n",
      " [1 1 2 1 1 2 2]]\n",
      "Draw, [0, 1, 2, 3, 5, 6], 1)\n"
     ]
    },
    {
     "ename": "TypeError",
     "evalue": "int() argument must be a string, a bytes-like object or a real number, not 'NoneType'",
     "output_type": "error",
     "traceback": [
      "\u001b[0;31m---------------------------------------------------------------------------\u001b[0m",
      "\u001b[0;31mTypeError\u001b[0m                                 Traceback (most recent call last)",
      "Cell \u001b[0;32mIn[280], line 2\u001b[0m\n\u001b[1;32m      1\u001b[0m g \u001b[38;5;241m=\u001b[39m Connect4()\n\u001b[0;32m----> 2\u001b[0m \u001b[43mg\u001b[49m\u001b[38;5;241;43m.\u001b[39;49m\u001b[43mrandom_finish\u001b[49m\u001b[43m(\u001b[49m\u001b[43m)\u001b[49m\n\u001b[1;32m      3\u001b[0m \u001b[38;5;66;03m#g.play(g._open_indices[random.randint(0, len(g._open_indices)-1)])\u001b[39;00m\n\u001b[1;32m      4\u001b[0m \u001b[38;5;66;03m#g\u001b[39;00m\n",
      "Cell \u001b[0;32mIn[279], line 70\u001b[0m, in \u001b[0;36mConnect4.random_finish\u001b[0;34m(self)\u001b[0m\n\u001b[1;32m     68\u001b[0m \u001b[38;5;28;01mwhile\u001b[39;00m (\u001b[38;5;28mself\u001b[39m\u001b[38;5;241m.\u001b[39mwinner \u001b[38;5;241m==\u001b[39m \u001b[38;5;28;01mNone\u001b[39;00m) \u001b[38;5;129;01mand\u001b[39;00m \u001b[38;5;28mself\u001b[39m\u001b[38;5;241m.\u001b[39m_open_indices:\n\u001b[1;32m     69\u001b[0m     move \u001b[38;5;241m=\u001b[39m random\u001b[38;5;241m.\u001b[39mrandint(\u001b[38;5;241m0\u001b[39m, \u001b[38;5;28mlen\u001b[39m(\u001b[38;5;28mself\u001b[39m\u001b[38;5;241m.\u001b[39m_open_indices)\u001b[38;5;241m-\u001b[39m\u001b[38;5;241m1\u001b[39m)\n\u001b[0;32m---> 70\u001b[0m     \u001b[38;5;28;43mself\u001b[39;49m\u001b[38;5;241;43m.\u001b[39;49m\u001b[43mplay\u001b[49m\u001b[43m(\u001b[49m\u001b[38;5;28;43mself\u001b[39;49m\u001b[38;5;241;43m.\u001b[39;49m\u001b[43m_open_indices\u001b[49m\u001b[43m[\u001b[49m\u001b[43mmove\u001b[49m\u001b[43m]\u001b[49m\u001b[43m)\u001b[49m\n",
      "Cell \u001b[0;32mIn[279], line 41\u001b[0m, in \u001b[0;36mConnect4.play\u001b[0;34m(self, col)\u001b[0m\n\u001b[1;32m     38\u001b[0m     \u001b[38;5;28;01melse\u001b[39;00m:\n\u001b[1;32m     39\u001b[0m         try_play(row \u001b[38;5;241m-\u001b[39m \u001b[38;5;241m1\u001b[39m)\n\u001b[0;32m---> 41\u001b[0m \u001b[43mtry_play\u001b[49m\u001b[43m(\u001b[49m\u001b[38;5;28;43mself\u001b[39;49m\u001b[38;5;241;43m.\u001b[39;49m\u001b[43mlast_row\u001b[49m\u001b[43m(\u001b[49m\u001b[43m)\u001b[49m\u001b[43m)\u001b[49m\n",
      "Cell \u001b[0;32mIn[279], line 39\u001b[0m, in \u001b[0;36mConnect4.play.<locals>.try_play\u001b[0;34m(row)\u001b[0m\n\u001b[1;32m     37\u001b[0m     \u001b[38;5;28;01mreturn\u001b[39;00m \u001b[38;5;28;01mTrue\u001b[39;00m\n\u001b[1;32m     38\u001b[0m \u001b[38;5;28;01melse\u001b[39;00m:\n\u001b[0;32m---> 39\u001b[0m     \u001b[43mtry_play\u001b[49m\u001b[43m(\u001b[49m\u001b[43mrow\u001b[49m\u001b[43m \u001b[49m\u001b[38;5;241;43m-\u001b[39;49m\u001b[43m \u001b[49m\u001b[38;5;241;43m1\u001b[39;49m\u001b[43m)\u001b[49m\n",
      "Cell \u001b[0;32mIn[279], line 39\u001b[0m, in \u001b[0;36mConnect4.play.<locals>.try_play\u001b[0;34m(row)\u001b[0m\n\u001b[1;32m     37\u001b[0m     \u001b[38;5;28;01mreturn\u001b[39;00m \u001b[38;5;28;01mTrue\u001b[39;00m\n\u001b[1;32m     38\u001b[0m \u001b[38;5;28;01melse\u001b[39;00m:\n\u001b[0;32m---> 39\u001b[0m     \u001b[43mtry_play\u001b[49m\u001b[43m(\u001b[49m\u001b[43mrow\u001b[49m\u001b[43m \u001b[49m\u001b[38;5;241;43m-\u001b[39;49m\u001b[43m \u001b[49m\u001b[38;5;241;43m1\u001b[39;49m\u001b[43m)\u001b[49m\n",
      "    \u001b[0;31m[... skipping similar frames: Connect4.play.<locals>.try_play at line 39 (2 times)]\u001b[0m\n",
      "Cell \u001b[0;32mIn[279], line 39\u001b[0m, in \u001b[0;36mConnect4.play.<locals>.try_play\u001b[0;34m(row)\u001b[0m\n\u001b[1;32m     37\u001b[0m     \u001b[38;5;28;01mreturn\u001b[39;00m \u001b[38;5;28;01mTrue\u001b[39;00m\n\u001b[1;32m     38\u001b[0m \u001b[38;5;28;01melse\u001b[39;00m:\n\u001b[0;32m---> 39\u001b[0m     \u001b[43mtry_play\u001b[49m\u001b[43m(\u001b[49m\u001b[43mrow\u001b[49m\u001b[43m \u001b[49m\u001b[38;5;241;43m-\u001b[39;49m\u001b[43m \u001b[49m\u001b[38;5;241;43m1\u001b[39;49m\u001b[43m)\u001b[49m\n",
      "Cell \u001b[0;32mIn[279], line 31\u001b[0m, in \u001b[0;36mConnect4.play.<locals>.try_play\u001b[0;34m(row)\u001b[0m\n\u001b[1;32m     29\u001b[0m     \u001b[38;5;28;01mreturn\u001b[39;00m \u001b[38;5;28;01mFalse\u001b[39;00m\n\u001b[1;32m     30\u001b[0m \u001b[38;5;28;01melif\u001b[39;00m \u001b[38;5;28mself\u001b[39m\u001b[38;5;241m.\u001b[39mstate[row][col] \u001b[38;5;241m==\u001b[39m \u001b[38;5;241m0\u001b[39m:\n\u001b[0;32m---> 31\u001b[0m     \u001b[38;5;28;43mself\u001b[39;49m\u001b[38;5;241;43m.\u001b[39;49m\u001b[43mstate\u001b[49m\u001b[43m[\u001b[49m\u001b[43mrow\u001b[49m\u001b[43m]\u001b[49m\u001b[43m[\u001b[49m\u001b[43mcol\u001b[49m\u001b[43m]\u001b[49m \u001b[38;5;241m=\u001b[39m \u001b[38;5;28mself\u001b[39m\u001b[38;5;241m.\u001b[39mplayer\n\u001b[1;32m     32\u001b[0m     \u001b[38;5;66;03m# check for win here\u001b[39;00m\n\u001b[1;32m     33\u001b[0m     \u001b[38;5;66;03m# check if we have a run of 4 adjacent (in state range and same value as self.player) values\u001b[39;00m\n\u001b[1;32m     34\u001b[0m     \u001b[38;5;28mself\u001b[39m\u001b[38;5;241m.\u001b[39m_update_winner(col, row)\n",
      "\u001b[0;31mTypeError\u001b[0m: int() argument must be a string, a bytes-like object or a real number, not 'NoneType'"
     ]
    }
   ],
   "source": [
    "g = Connect4()\n",
    "g.random_finish()\n",
    "#g.play(g._open_indices[random.randint(0, len(g._open_indices)-1)])\n",
    "#g"
   ]
  },
  {
   "cell_type": "code",
   "execution_count": 266,
   "id": "f72b7712-2fa4-4a12-b90d-9818a91310af",
   "metadata": {},
   "outputs": [
    {
     "ename": "IndexError",
     "evalue": "index 10 is out of bounds for axis 0 with size 6",
     "output_type": "error",
     "traceback": [
      "\u001b[0;31m---------------------------------------------------------------------------\u001b[0m",
      "\u001b[0;31mIndexError\u001b[0m                                Traceback (most recent call last)",
      "Cell \u001b[0;32mIn[266], line 1\u001b[0m\n\u001b[0;32m----> 1\u001b[0m \u001b[43mg\u001b[49m\u001b[38;5;241;43m.\u001b[39;49m\u001b[43mstate\u001b[49m\u001b[43m[\u001b[49m\u001b[38;5;241;43m10\u001b[39;49m\u001b[43m]\u001b[49m[\u001b[38;5;241m10\u001b[39m]\n",
      "\u001b[0;31mIndexError\u001b[0m: index 10 is out of bounds for axis 0 with size 6"
     ]
    }
   ],
   "source": []
  },
  {
   "cell_type": "code",
   "execution_count": null,
   "id": "fd30b401-b644-4b3f-a564-529e1c6702d5",
   "metadata": {},
   "outputs": [],
   "source": []
  }
 ],
 "metadata": {
  "kernelspec": {
   "display_name": "Python 3 (ipykernel)",
   "language": "python",
   "name": "python3"
  },
  "language_info": {
   "codemirror_mode": {
    "name": "ipython",
    "version": 3
   },
   "file_extension": ".py",
   "mimetype": "text/x-python",
   "name": "python",
   "nbconvert_exporter": "python",
   "pygments_lexer": "ipython3",
   "version": "3.11.6"
  }
 },
 "nbformat": 4,
 "nbformat_minor": 5
}
