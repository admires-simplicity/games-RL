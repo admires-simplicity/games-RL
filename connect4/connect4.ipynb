{
 "cells": [
  {
   "cell_type": "code",
   "execution_count": 1,
   "id": "fee398d5-84af-46ed-9e57-5090e4523663",
   "metadata": {},
   "outputs": [],
   "source": [
    "%matplotlib inline\n",
    "# ^^ ensures plots are displayed in the notebook\n",
    "import matplotlib.pyplot as plt\n",
    "import numpy as np"
   ]
  },
  {
   "cell_type": "code",
   "execution_count": 99,
   "id": "5d38db86-bd3a-4345-b33a-72c1ad3e8ec8",
   "metadata": {},
   "outputs": [],
   "source": [
    "def display(grid):\n",
    "    cmap = plt.cm.colors.ListedColormap(['white', 'red', 'blue'])\n",
    "    plt.imshow(grid, cmap=cmap, interpolation='nearest')\n",
    "    # offset grid lines by half\n",
    "    plt.xticks(np.arange(-0.5, len(grid[0]), 1), [])\n",
    "    plt.yticks(np.arange(-0.5, len(grid), 1), [])\n",
    "    # show grid lines\n",
    "    plt.grid(True, which='both', color='black', linestyle='-', linewidth=1)\n",
    "    plt.show()\n",
    "\n",
    "# this function displays the colours wrong when only player 1 has moved. it displays 0 as white and 1 as red.\n",
    "# any other time it works as expected.\n",
    "# i'm guessing this is because of how ListedColormap works\n",
    "# i'm just gonna say this is fine because this function doesn't *really* matter, and any other solution I can find\n",
    "# seems way more complicated"
   ]
  },
  {
   "cell_type": "code",
   "execution_count": 83,
   "id": "37f39c5a-4a83-4183-9f40-ee91427fdf8e",
   "metadata": {},
   "outputs": [],
   "source": [
    "grid = np.array([\n",
    "    [0, 1, 2, 1, 0],\n",
    "    [2, 0, 1, 2, 1],\n",
    "    [1, 2, 0, 1, 2],\n",
    "    [2, 1, 0, 2, 1],\n",
    "    [0, 2, 1, 0, 2]\n",
    "])"
   ]
  },
  {
   "cell_type": "code",
   "execution_count": 84,
   "id": "5073fa32-f1a5-41a0-a83b-ce56060669c2",
   "metadata": {},
   "outputs": [
    {
     "data": {
      "image/png": "[encoded data removed]",
      "text/plain": [
       "<Figure size 640x480 with 1 Axes>"
      ]
     },
     "metadata": {},
     "output_type": "display_data"
    }
   ],
   "source": [
    "display(grid)"
   ]
  },
  {
   "cell_type": "code",
   "execution_count": 93,
   "id": "0a9cb72e-d3c0-455a-8e8e-c82b15285d29",
   "metadata": {},
   "outputs": [],
   "source": [
    "def invert_1_2(x):\n",
    "    return x ^ 3\n",
    "    \n",
    "vinvert_1_2 = np.vectorize(invert_1_2)\n",
    "\n",
    "def empty_board():\n",
    "    return np.zeros((6, 7), dtype=np.int32)\n",
    "\n",
    "class Board:\n",
    "    def __init__(self):\n",
    "        self.state = empty_board()\n",
    "        self.player = 1\n",
    "\n",
    "    def update_player(self):\n",
    "        self.player = invert_1_2(self.player)\n",
    "\n",
    "    def play(self, col):\n",
    "        def try_play(row):\n",
    "            if row == -1:\n",
    "                return False\n",
    "            elif self.state[row][col] == 0:\n",
    "                self.state[row][col] = self.player\n",
    "                # check for win here\n",
    "                # check if we have a run of 4 adjacent (in state range and same value as self.player) values\n",
    "                self.update_player() \n",
    "                return True\n",
    "            else:\n",
    "                try_play(row - 1)\n",
    "\n",
    "        try_play(self.last_row())\n",
    "\n",
    "    def invert(self):\n",
    "        self.state = vinvert_1_2(self.state)\n",
    "\n",
    "    def last_row(self):\n",
    "        return self.state.shape[0] - 1\n",
    "        \n",
    "    @staticmethod\n",
    "    def empty_board():\n",
    "        return np.zeros((6, 7), dtype=int)\n"
   ]
  },
  {
   "cell_type": "code",
   "execution_count": 101,
   "id": "607af5f1-34c8-4b29-87cb-6e9ded1ca427",
   "metadata": {},
   "outputs": [
    {
     "data": {
      "text/plain": [
       "array([[0, 0, 0, 0, 0, 0, 0],\n",
       "       [0, 0, 0, 0, 0, 0, 0],\n",
       "       [0, 0, 0, 0, 0, 0, 0],\n",
       "       [0, 0, 0, 0, 0, 0, 0],\n",
       "       [0, 0, 0, 0, 0, 0, 0],\n",
       "       [0, 0, 0, 0, 0, 0, 0]], dtype=int32)"
      ]
     },
     "execution_count": 101,
     "metadata": {},
     "output_type": "execute_result"
    }
   ],
   "source": [
    "board = Board()\n",
    "board.state"
   ]
  },
  {
   "cell_type": "code",
   "execution_count": 102,
   "id": "469a2fa8-60d2-441f-8dab-b04335253567",
   "metadata": {},
   "outputs": [
    {
     "data": {
      "image/png": "[encoded data removed]",
      "text/plain": [
       "<Figure size 640x480 with 1 Axes>"
      ]
     },
     "metadata": {},
     "output_type": "display_data"
    },
    {
     "data": {
      "text/plain": [
       "array([[0, 0, 0, 0, 0, 0, 0],\n",
       "       [0, 0, 0, 0, 0, 0, 0],\n",
       "       [0, 0, 0, 0, 0, 0, 0],\n",
       "       [0, 0, 0, 0, 0, 0, 0],\n",
       "       [0, 0, 0, 0, 0, 0, 0],\n",
       "       [0, 0, 1, 0, 0, 0, 0]], dtype=int32)"
      ]
     },
     "execution_count": 102,
     "metadata": {},
     "output_type": "execute_result"
    }
   ],
   "source": [
    "board.play(2)\n",
    "display(board.state)\n",
    "board.state"
   ]
  },
  {
   "cell_type": "code",
   "execution_count": null,
   "id": "b299ec3a-b40c-4d16-afda-d49d6f978514",
   "metadata": {},
   "outputs": [],
   "source": []
  }
 ],
 "metadata": {
  "kernelspec": {
   "display_name": "Python 3 (ipykernel)",
   "language": "python",
   "name": "python3"
  },
  "language_info": {
   "codemirror_mode": {
    "name": "ipython",
    "version": 3
   },
   "file_extension": ".py",
   "mimetype": "text/x-python",
   "name": "python",
   "nbconvert_exporter": "python",
   "pygments_lexer": "ipython3",
   "version": "3.11.6"
  }
 },
 "nbformat": 4,
 "nbformat_minor": 5
}
