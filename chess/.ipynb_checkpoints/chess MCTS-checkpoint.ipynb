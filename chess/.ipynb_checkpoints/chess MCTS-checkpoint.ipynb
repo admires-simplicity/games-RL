{
 "cells": [
  {
   "cell_type": "code",
   "execution_count": 17,
   "id": "2e04c83a-d0a2-4d21-8111-caee02f02b16",
   "metadata": {},
   "outputs": [],
   "source": [
    "import pygame\n",
    "import pygame_gui\n",
    "import sys\n",
    "\n",
    "# Initialize Pygame\n",
    "pygame.init()\n",
    "\n",
    "# Constants\n",
    "WIDTH, HEIGHT = 400, 400\n",
    "TILE_SIZE = WIDTH // 8\n",
    "\n",
    "# Colors\n",
    "WHITE = (255, 255, 255)\n",
    "BLACK = (0, 0, 0)\n",
    "\n",
    "# Load sprite sheet\n",
    "sprites = pygame.img.load('ChessPiecesArray.png')\n",
    "\n",
    "# Initialize the screen\n",
    "screen = pygame.display.set_mode((WIDTH, HEIGHT))\n",
    "pygame.display.set_caption(\"Simple Chess\")\n",
    "\n",
    "cursor = (0, 0)\n",
    "\n",
    "# Main game loop\n",
    "running = True\n",
    "while running:\n",
    "    for event in pygame.event.get():\n",
    "        #if event.type == pygame.QUIT:\n",
    "        if event.type == pygame.KEYDOWN and event.key == pygame.K_ESCAPE:\n",
    "            running = False\n",
    "            continue\n",
    "        elif event.type == pygame.MOUSEBUTTONDOWN and event.button == 1:  # Left mouse button click\n",
    "            x, y = event.pos\n",
    "            col = x // TILE_SIZE\n",
    "            row = y // TILE_SIZE\n",
    "            print(f\"Clicked on tile: ({col}, {row})\")\n",
    "\n",
    "    # Draw chess board\n",
    "    for row in range(8):\n",
    "        for col in range(8):\n",
    "            color = WHITE if (row + col) % 2 == 0 else BLACK\n",
    "            pygame.draw.rect(screen, color, (col * TILE_SIZE, row * TILE_SIZE, TILE_SIZE, TILE_SIZE))\n",
    "\n",
    "    pygame.display.flip()\n",
    "\n",
    "pygame.quit()\n",
    "#sys.exit()        \n"
   ]
  },
  {
   "cell_type": "code",
   "execution_count": null,
   "id": "8fc2f517-23e9-499d-b66a-7109e7bc359d",
   "metadata": {},
   "outputs": [],
   "source": []
  },
  {
   "cell_type": "code",
   "execution_count": null,
   "id": "e8ea45bd-6d82-46dc-b99d-8005cca53438",
   "metadata": {},
   "outputs": [],
   "source": []
  }
 ],
 "metadata": {
  "kernelspec": {
   "display_name": "Python 3 (ipykernel)",
   "language": "python",
   "name": "python3"
  },
  "language_info": {
   "codemirror_mode": {
    "name": "ipython",
    "version": 3
   },
   "file_extension": ".py",
   "mimetype": "text/x-python",
   "name": "python",
   "nbconvert_exporter": "python",
   "pygments_lexer": "ipython3",
   "version": "3.11.6"
  }
 },
 "nbformat": 4,
 "nbformat_minor": 5
}
